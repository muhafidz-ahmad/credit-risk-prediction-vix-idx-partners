{
  "nbformat": 4,
  "nbformat_minor": 0,
  "metadata": {
    "colab": {
      "provenance": [],
      "mount_file_id": "1ZwwxW0XqlmzA8f8WKLdZKtDaxoUBwTV5",
      "authorship_tag": "ABX9TyNf+4jhjAMYi8/6FnjGjrfp",
      "include_colab_link": true
    },
    "kernelspec": {
      "name": "python3",
      "display_name": "Python 3"
    },
    "language_info": {
      "name": "python"
    },
    "gpuClass": "standard"
  },
  "cells": [
    {
      "cell_type": "markdown",
      "metadata": {
        "id": "view-in-github",
        "colab_type": "text"
      },
      "source": [
        "<a href=\"https://colab.research.google.com/github/muhafidz-ahmad/credit-risk-prediction-vix-idx-partners/blob/main/Credit_Risk_Prediction.ipynb\" target=\"_parent\"><img src=\"https://colab.research.google.com/assets/colab-badge.svg\" alt=\"Open In Colab\"/></a>"
      ]
    },
    {
      "cell_type": "markdown",
      "source": [
        "# Credit Risk Prediction ID/X Partners"
      ],
      "metadata": {
        "id": "lQ1lqNL3YO6N"
      }
    },
    {
      "cell_type": "markdown",
      "source": [
        "## Persiapan Package dan Data"
      ],
      "metadata": {
        "id": "BkUI9ufUYxe_"
      }
    },
    {
      "cell_type": "code",
      "execution_count": 1,
      "metadata": {
        "id": "49oFckHWXJAl"
      },
      "outputs": [],
      "source": [
        "import re\n",
        "import joblib\n",
        "\n",
        "import numpy as np\n",
        "import pandas as pd\n",
        "import matplotlib.pyplot as plt\n",
        "import seaborn as sns\n",
        "\n",
        "from sklearn import tree\n",
        "from sklearn.preprocessing import MinMaxScaler\n",
        "from sklearn.model_selection import train_test_split\n",
        "from sklearn.model_selection import GridSearchCV\n",
        "from sklearn.metrics import classification_report, confusion_matrix\n",
        "\n",
        "from scipy.stats import shapiro\n",
        "\n",
        "import sklearn\n",
        "import pickle"
      ]
    },
    {
      "cell_type": "code",
      "source": [
        "df = pd.read_csv(\"/content/drive/MyDrive/Colab Notebooks/Real Portofolio/Credit Risk Prediction VIX ID X Partners/loan_data_2007_2014.csv\")\n",
        "df.sample(5)"
      ],
      "metadata": {
        "colab": {
          "base_uri": "https://localhost:8080/",
          "height": 438
        },
        "id": "1JHFlHNwZ7AF",
        "outputId": "8af87509-e468-44ea-8b1a-621a6707daa4"
      },
      "execution_count": 2,
      "outputs": [
        {
          "output_type": "stream",
          "name": "stderr",
          "text": [
            "/usr/local/lib/python3.8/dist-packages/IPython/core/interactiveshell.py:3326: DtypeWarning: Columns (20) have mixed types.Specify dtype option on import or set low_memory=False.\n",
            "  exec(code_obj, self.user_global_ns, self.user_ns)\n"
          ]
        },
        {
          "output_type": "execute_result",
          "data": {
            "text/plain": [
              "        Unnamed: 0        id  member_id  loan_amnt  funded_amnt  \\\n",
              "14283        14283    762290     962802      24575        24575   \n",
              "323812      323812  24725033   27168041       9600         9600   \n",
              "11406        11406    815541    1023210       5600         5600   \n",
              "27961        27961    546490     704705       9000         9000   \n",
              "106687      106687   6522103    8074067      24000        24000   \n",
              "\n",
              "        funded_amnt_inv        term  int_rate  installment grade  ...  \\\n",
              "14283           24325.0   60 months     13.49       565.35     C  ...   \n",
              "323812           9600.0   36 months     10.15       310.45     B  ...   \n",
              "11406            5600.0   36 months     10.99       183.32     B  ...   \n",
              "27961            8875.0   36 months      7.51       280.00     A  ...   \n",
              "106687          24000.0   36 months      6.62       736.89     A  ...   \n",
              "\n",
              "       total_bal_il il_util open_rv_12m open_rv_24m  max_bal_bc all_util  \\\n",
              "14283           NaN     NaN         NaN         NaN         NaN      NaN   \n",
              "323812          NaN     NaN         NaN         NaN         NaN      NaN   \n",
              "11406           NaN     NaN         NaN         NaN         NaN      NaN   \n",
              "27961           NaN     NaN         NaN         NaN         NaN      NaN   \n",
              "106687          NaN     NaN         NaN         NaN         NaN      NaN   \n",
              "\n",
              "       total_rev_hi_lim inq_fi total_cu_tl inq_last_12m  \n",
              "14283               NaN    NaN         NaN          NaN  \n",
              "323812          21200.0    NaN         NaN          NaN  \n",
              "11406               NaN    NaN         NaN          NaN  \n",
              "27961               NaN    NaN         NaN          NaN  \n",
              "106687          59500.0    NaN         NaN          NaN  \n",
              "\n",
              "[5 rows x 75 columns]"
            ],
            "text/html": [
              "\n",
              "  <div id=\"df-ae92873a-e3ac-4d05-aa8d-011664b658c6\">\n",
              "    <div class=\"colab-df-container\">\n",
              "      <div>\n",
              "<style scoped>\n",
              "    .dataframe tbody tr th:only-of-type {\n",
              "        vertical-align: middle;\n",
              "    }\n",
              "\n",
              "    .dataframe tbody tr th {\n",
              "        vertical-align: top;\n",
              "    }\n",
              "\n",
              "    .dataframe thead th {\n",
              "        text-align: right;\n",
              "    }\n",
              "</style>\n",
              "<table border=\"1\" class=\"dataframe\">\n",
              "  <thead>\n",
              "    <tr style=\"text-align: right;\">\n",
              "      <th></th>\n",
              "      <th>Unnamed: 0</th>\n",
              "      <th>id</th>\n",
              "      <th>member_id</th>\n",
              "      <th>loan_amnt</th>\n",
              "      <th>funded_amnt</th>\n",
              "      <th>funded_amnt_inv</th>\n",
              "      <th>term</th>\n",
              "      <th>int_rate</th>\n",
              "      <th>installment</th>\n",
              "      <th>grade</th>\n",
              "      <th>...</th>\n",
              "      <th>total_bal_il</th>\n",
              "      <th>il_util</th>\n",
              "      <th>open_rv_12m</th>\n",
              "      <th>open_rv_24m</th>\n",
              "      <th>max_bal_bc</th>\n",
              "      <th>all_util</th>\n",
              "      <th>total_rev_hi_lim</th>\n",
              "      <th>inq_fi</th>\n",
              "      <th>total_cu_tl</th>\n",
              "      <th>inq_last_12m</th>\n",
              "    </tr>\n",
              "  </thead>\n",
              "  <tbody>\n",
              "    <tr>\n",
              "      <th>14283</th>\n",
              "      <td>14283</td>\n",
              "      <td>762290</td>\n",
              "      <td>962802</td>\n",
              "      <td>24575</td>\n",
              "      <td>24575</td>\n",
              "      <td>24325.0</td>\n",
              "      <td>60 months</td>\n",
              "      <td>13.49</td>\n",
              "      <td>565.35</td>\n",
              "      <td>C</td>\n",
              "      <td>...</td>\n",
              "      <td>NaN</td>\n",
              "      <td>NaN</td>\n",
              "      <td>NaN</td>\n",
              "      <td>NaN</td>\n",
              "      <td>NaN</td>\n",
              "      <td>NaN</td>\n",
              "      <td>NaN</td>\n",
              "      <td>NaN</td>\n",
              "      <td>NaN</td>\n",
              "      <td>NaN</td>\n",
              "    </tr>\n",
              "    <tr>\n",
              "      <th>323812</th>\n",
              "      <td>323812</td>\n",
              "      <td>24725033</td>\n",
              "      <td>27168041</td>\n",
              "      <td>9600</td>\n",
              "      <td>9600</td>\n",
              "      <td>9600.0</td>\n",
              "      <td>36 months</td>\n",
              "      <td>10.15</td>\n",
              "      <td>310.45</td>\n",
              "      <td>B</td>\n",
              "      <td>...</td>\n",
              "      <td>NaN</td>\n",
              "      <td>NaN</td>\n",
              "      <td>NaN</td>\n",
              "      <td>NaN</td>\n",
              "      <td>NaN</td>\n",
              "      <td>NaN</td>\n",
              "      <td>21200.0</td>\n",
              "      <td>NaN</td>\n",
              "      <td>NaN</td>\n",
              "      <td>NaN</td>\n",
              "    </tr>\n",
              "    <tr>\n",
              "      <th>11406</th>\n",
              "      <td>11406</td>\n",
              "      <td>815541</td>\n",
              "      <td>1023210</td>\n",
              "      <td>5600</td>\n",
              "      <td>5600</td>\n",
              "      <td>5600.0</td>\n",
              "      <td>36 months</td>\n",
              "      <td>10.99</td>\n",
              "      <td>183.32</td>\n",
              "      <td>B</td>\n",
              "      <td>...</td>\n",
              "      <td>NaN</td>\n",
              "      <td>NaN</td>\n",
              "      <td>NaN</td>\n",
              "      <td>NaN</td>\n",
              "      <td>NaN</td>\n",
              "      <td>NaN</td>\n",
              "      <td>NaN</td>\n",
              "      <td>NaN</td>\n",
              "      <td>NaN</td>\n",
              "      <td>NaN</td>\n",
              "    </tr>\n",
              "    <tr>\n",
              "      <th>27961</th>\n",
              "      <td>27961</td>\n",
              "      <td>546490</td>\n",
              "      <td>704705</td>\n",
              "      <td>9000</td>\n",
              "      <td>9000</td>\n",
              "      <td>8875.0</td>\n",
              "      <td>36 months</td>\n",
              "      <td>7.51</td>\n",
              "      <td>280.00</td>\n",
              "      <td>A</td>\n",
              "      <td>...</td>\n",
              "      <td>NaN</td>\n",
              "      <td>NaN</td>\n",
              "      <td>NaN</td>\n",
              "      <td>NaN</td>\n",
              "      <td>NaN</td>\n",
              "      <td>NaN</td>\n",
              "      <td>NaN</td>\n",
              "      <td>NaN</td>\n",
              "      <td>NaN</td>\n",
              "      <td>NaN</td>\n",
              "    </tr>\n",
              "    <tr>\n",
              "      <th>106687</th>\n",
              "      <td>106687</td>\n",
              "      <td>6522103</td>\n",
              "      <td>8074067</td>\n",
              "      <td>24000</td>\n",
              "      <td>24000</td>\n",
              "      <td>24000.0</td>\n",
              "      <td>36 months</td>\n",
              "      <td>6.62</td>\n",
              "      <td>736.89</td>\n",
              "      <td>A</td>\n",
              "      <td>...</td>\n",
              "      <td>NaN</td>\n",
              "      <td>NaN</td>\n",
              "      <td>NaN</td>\n",
              "      <td>NaN</td>\n",
              "      <td>NaN</td>\n",
              "      <td>NaN</td>\n",
              "      <td>59500.0</td>\n",
              "      <td>NaN</td>\n",
              "      <td>NaN</td>\n",
              "      <td>NaN</td>\n",
              "    </tr>\n",
              "  </tbody>\n",
              "</table>\n",
              "<p>5 rows × 75 columns</p>\n",
              "</div>\n",
              "      <button class=\"colab-df-convert\" onclick=\"convertToInteractive('df-ae92873a-e3ac-4d05-aa8d-011664b658c6')\"\n",
              "              title=\"Convert this dataframe to an interactive table.\"\n",
              "              style=\"display:none;\">\n",
              "        \n",
              "  <svg xmlns=\"http://www.w3.org/2000/svg\" height=\"24px\"viewBox=\"0 0 24 24\"\n",
              "       width=\"24px\">\n",
              "    <path d=\"M0 0h24v24H0V0z\" fill=\"none\"/>\n",
              "    <path d=\"M18.56 5.44l.94 2.06.94-2.06 2.06-.94-2.06-.94-.94-2.06-.94 2.06-2.06.94zm-11 1L8.5 8.5l.94-2.06 2.06-.94-2.06-.94L8.5 2.5l-.94 2.06-2.06.94zm10 10l.94 2.06.94-2.06 2.06-.94-2.06-.94-.94-2.06-.94 2.06-2.06.94z\"/><path d=\"M17.41 7.96l-1.37-1.37c-.4-.4-.92-.59-1.43-.59-.52 0-1.04.2-1.43.59L10.3 9.45l-7.72 7.72c-.78.78-.78 2.05 0 2.83L4 21.41c.39.39.9.59 1.41.59.51 0 1.02-.2 1.41-.59l7.78-7.78 2.81-2.81c.8-.78.8-2.07 0-2.86zM5.41 20L4 18.59l7.72-7.72 1.47 1.35L5.41 20z\"/>\n",
              "  </svg>\n",
              "      </button>\n",
              "      \n",
              "  <style>\n",
              "    .colab-df-container {\n",
              "      display:flex;\n",
              "      flex-wrap:wrap;\n",
              "      gap: 12px;\n",
              "    }\n",
              "\n",
              "    .colab-df-convert {\n",
              "      background-color: #E8F0FE;\n",
              "      border: none;\n",
              "      border-radius: 50%;\n",
              "      cursor: pointer;\n",
              "      display: none;\n",
              "      fill: #1967D2;\n",
              "      height: 32px;\n",
              "      padding: 0 0 0 0;\n",
              "      width: 32px;\n",
              "    }\n",
              "\n",
              "    .colab-df-convert:hover {\n",
              "      background-color: #E2EBFA;\n",
              "      box-shadow: 0px 1px 2px rgba(60, 64, 67, 0.3), 0px 1px 3px 1px rgba(60, 64, 67, 0.15);\n",
              "      fill: #174EA6;\n",
              "    }\n",
              "\n",
              "    [theme=dark] .colab-df-convert {\n",
              "      background-color: #3B4455;\n",
              "      fill: #D2E3FC;\n",
              "    }\n",
              "\n",
              "    [theme=dark] .colab-df-convert:hover {\n",
              "      background-color: #434B5C;\n",
              "      box-shadow: 0px 1px 3px 1px rgba(0, 0, 0, 0.15);\n",
              "      filter: drop-shadow(0px 1px 2px rgba(0, 0, 0, 0.3));\n",
              "      fill: #FFFFFF;\n",
              "    }\n",
              "  </style>\n",
              "\n",
              "      <script>\n",
              "        const buttonEl =\n",
              "          document.querySelector('#df-ae92873a-e3ac-4d05-aa8d-011664b658c6 button.colab-df-convert');\n",
              "        buttonEl.style.display =\n",
              "          google.colab.kernel.accessAllowed ? 'block' : 'none';\n",
              "\n",
              "        async function convertToInteractive(key) {\n",
              "          const element = document.querySelector('#df-ae92873a-e3ac-4d05-aa8d-011664b658c6');\n",
              "          const dataTable =\n",
              "            await google.colab.kernel.invokeFunction('convertToInteractive',\n",
              "                                                     [key], {});\n",
              "          if (!dataTable) return;\n",
              "\n",
              "          const docLinkHtml = 'Like what you see? Visit the ' +\n",
              "            '<a target=\"_blank\" href=https://colab.research.google.com/notebooks/data_table.ipynb>data table notebook</a>'\n",
              "            + ' to learn more about interactive tables.';\n",
              "          element.innerHTML = '';\n",
              "          dataTable['output_type'] = 'display_data';\n",
              "          await google.colab.output.renderOutput(dataTable, element);\n",
              "          const docLink = document.createElement('div');\n",
              "          docLink.innerHTML = docLinkHtml;\n",
              "          element.appendChild(docLink);\n",
              "        }\n",
              "      </script>\n",
              "    </div>\n",
              "  </div>\n",
              "  "
            ]
          },
          "metadata": {},
          "execution_count": 2
        }
      ]
    },
    {
      "cell_type": "code",
      "source": [
        "df.info()"
      ],
      "metadata": {
        "colab": {
          "base_uri": "https://localhost:8080/"
        },
        "id": "bLQMdQ03bB8T",
        "outputId": "7977ca77-c48f-4741-842e-6b5f3896abe0"
      },
      "execution_count": 3,
      "outputs": [
        {
          "output_type": "stream",
          "name": "stdout",
          "text": [
            "<class 'pandas.core.frame.DataFrame'>\n",
            "RangeIndex: 466285 entries, 0 to 466284\n",
            "Data columns (total 75 columns):\n",
            " #   Column                       Non-Null Count   Dtype  \n",
            "---  ------                       --------------   -----  \n",
            " 0   Unnamed: 0                   466285 non-null  int64  \n",
            " 1   id                           466285 non-null  int64  \n",
            " 2   member_id                    466285 non-null  int64  \n",
            " 3   loan_amnt                    466285 non-null  int64  \n",
            " 4   funded_amnt                  466285 non-null  int64  \n",
            " 5   funded_amnt_inv              466285 non-null  float64\n",
            " 6   term                         466285 non-null  object \n",
            " 7   int_rate                     466285 non-null  float64\n",
            " 8   installment                  466285 non-null  float64\n",
            " 9   grade                        466285 non-null  object \n",
            " 10  sub_grade                    466285 non-null  object \n",
            " 11  emp_title                    438697 non-null  object \n",
            " 12  emp_length                   445277 non-null  object \n",
            " 13  home_ownership               466285 non-null  object \n",
            " 14  annual_inc                   466281 non-null  float64\n",
            " 15  verification_status          466285 non-null  object \n",
            " 16  issue_d                      466285 non-null  object \n",
            " 17  loan_status                  466285 non-null  object \n",
            " 18  pymnt_plan                   466285 non-null  object \n",
            " 19  url                          466285 non-null  object \n",
            " 20  desc                         125983 non-null  object \n",
            " 21  purpose                      466285 non-null  object \n",
            " 22  title                        466265 non-null  object \n",
            " 23  zip_code                     466285 non-null  object \n",
            " 24  addr_state                   466285 non-null  object \n",
            " 25  dti                          466285 non-null  float64\n",
            " 26  delinq_2yrs                  466256 non-null  float64\n",
            " 27  earliest_cr_line             466256 non-null  object \n",
            " 28  inq_last_6mths               466256 non-null  float64\n",
            " 29  mths_since_last_delinq       215934 non-null  float64\n",
            " 30  mths_since_last_record       62638 non-null   float64\n",
            " 31  open_acc                     466256 non-null  float64\n",
            " 32  pub_rec                      466256 non-null  float64\n",
            " 33  revol_bal                    466285 non-null  int64  \n",
            " 34  revol_util                   465945 non-null  float64\n",
            " 35  total_acc                    466256 non-null  float64\n",
            " 36  initial_list_status          466285 non-null  object \n",
            " 37  out_prncp                    466285 non-null  float64\n",
            " 38  out_prncp_inv                466285 non-null  float64\n",
            " 39  total_pymnt                  466285 non-null  float64\n",
            " 40  total_pymnt_inv              466285 non-null  float64\n",
            " 41  total_rec_prncp              466285 non-null  float64\n",
            " 42  total_rec_int                466285 non-null  float64\n",
            " 43  total_rec_late_fee           466285 non-null  float64\n",
            " 44  recoveries                   466285 non-null  float64\n",
            " 45  collection_recovery_fee      466285 non-null  float64\n",
            " 46  last_pymnt_d                 465909 non-null  object \n",
            " 47  last_pymnt_amnt              466285 non-null  float64\n",
            " 48  next_pymnt_d                 239071 non-null  object \n",
            " 49  last_credit_pull_d           466243 non-null  object \n",
            " 50  collections_12_mths_ex_med   466140 non-null  float64\n",
            " 51  mths_since_last_major_derog  98974 non-null   float64\n",
            " 52  policy_code                  466285 non-null  int64  \n",
            " 53  application_type             466285 non-null  object \n",
            " 54  annual_inc_joint             0 non-null       float64\n",
            " 55  dti_joint                    0 non-null       float64\n",
            " 56  verification_status_joint    0 non-null       float64\n",
            " 57  acc_now_delinq               466256 non-null  float64\n",
            " 58  tot_coll_amt                 396009 non-null  float64\n",
            " 59  tot_cur_bal                  396009 non-null  float64\n",
            " 60  open_acc_6m                  0 non-null       float64\n",
            " 61  open_il_6m                   0 non-null       float64\n",
            " 62  open_il_12m                  0 non-null       float64\n",
            " 63  open_il_24m                  0 non-null       float64\n",
            " 64  mths_since_rcnt_il           0 non-null       float64\n",
            " 65  total_bal_il                 0 non-null       float64\n",
            " 66  il_util                      0 non-null       float64\n",
            " 67  open_rv_12m                  0 non-null       float64\n",
            " 68  open_rv_24m                  0 non-null       float64\n",
            " 69  max_bal_bc                   0 non-null       float64\n",
            " 70  all_util                     0 non-null       float64\n",
            " 71  total_rev_hi_lim             396009 non-null  float64\n",
            " 72  inq_fi                       0 non-null       float64\n",
            " 73  total_cu_tl                  0 non-null       float64\n",
            " 74  inq_last_12m                 0 non-null       float64\n",
            "dtypes: float64(46), int64(7), object(22)\n",
            "memory usage: 266.8+ MB\n"
          ]
        }
      ]
    },
    {
      "cell_type": "markdown",
      "source": [
        "Terdapat kolom index yang tidak terpakai dan beberapa kolom yang tidak memiliki nilai sama sekali. Maka kolom-kolom tersebut akan dihapus agar proses lebih analisis lebih sederhana."
      ],
      "metadata": {
        "id": "DbDf1rAMfxLL"
      }
    },
    {
      "cell_type": "code",
      "source": [
        "df.drop(df.isnull().sum()[lambda x: x == df.shape[0]].index, \n",
        "        axis=1, inplace=True)"
      ],
      "metadata": {
        "id": "vMnZ4c2dmqgT"
      },
      "execution_count": 4,
      "outputs": []
    },
    {
      "cell_type": "markdown",
      "source": [
        "## Data Understanding"
      ],
      "metadata": {
        "id": "b3CkxIhiKM-w"
      }
    },
    {
      "cell_type": "markdown",
      "source": [
        "Masih terdapat banyak sekali kolom pada dataset. Bisa jadi terdapat kolom-kolom yang tidak terpakai untuk melakukan prediksi risiko kredit."
      ],
      "metadata": {
        "id": "ciKQ8guBLy3t"
      }
    },
    {
      "cell_type": "code",
      "source": [
        "def info(df):\n",
        "  col_understanding = ['nama_kolom', 'tipe_data', 'null',\n",
        "                       'nilai_unik', 'sampel_nilai']\n",
        "  understanding_list = list()\n",
        "\n",
        "  for i in df.columns:\n",
        "    kolom = []\n",
        "    kolom.append(i)\n",
        "    kolom.append(df[i].dtype)\n",
        "    kolom.append(df[i].isnull().sum())\n",
        "    jumlah_nilai_unik = len(df[i].unique())\n",
        "    kolom.append(jumlah_nilai_unik)\n",
        "    if jumlah_nilai_unik >= 10:\n",
        "      #kolom.append(list(df[i].sample(10, random_state=845).values))\n",
        "      kolom.append(list(df[i].unique()[:10]))\n",
        "    else:\n",
        "      kolom.append(list(df[i].unique()))\n",
        "\n",
        "    understanding_list.append(kolom)\n",
        "\n",
        "  return pd.DataFrame(understanding_list, columns=col_understanding)\n",
        "\n",
        "understanding_df = info(df)\n",
        "path = '/content/drive/MyDrive/Colab Notebooks/Real Portofolio/Credit Risk Prediction VIX ID X Partners/'\n",
        "file_undrstndng = 'Data Understanding Credit Risk Prediction (1).xlsx'\n",
        "# understanding_df.to_excel(path+file_undrstndng, index=False)\n",
        "# understanding_df"
      ],
      "metadata": {
        "id": "AZPf9pDUweqW"
      },
      "execution_count": 5,
      "outputs": []
    },
    {
      "cell_type": "markdown",
      "source": [
        "## Exploratory Data Analysis"
      ],
      "metadata": {
        "id": "ZhxrfccVP44_"
      }
    },
    {
      "cell_type": "code",
      "source": [
        "unused_col = set()"
      ],
      "metadata": {
        "id": "kDZCYCIVx67N"
      },
      "execution_count": 6,
      "outputs": []
    },
    {
      "cell_type": "markdown",
      "source": [
        "Pertama, akan diperiksa jumlah null tiap kolom.\n",
        "\n",
        "Terdapat 4 kolom yang memiliki nilai null lebih dari setengah total baris dataset, yaitu:\n",
        "* mths_since_last_record\n",
        "* mths_since_last_major_derog\n",
        "* desc\n",
        "* mths_since_last_delinq\n",
        "\n",
        "Empat kolom tersebut akan dihapus."
      ],
      "metadata": {
        "id": "P0fuhaweShB6"
      }
    },
    {
      "cell_type": "code",
      "source": [
        "# Periksa jumlah nilai null tiap kolom\n",
        "understanding_df.sort_values('null', axis=0, inplace=True, ascending=False)\n",
        "\n",
        "plt.figure(figsize=(12,10))\n",
        "ax = sns.barplot(data=understanding_df[understanding_df['null'] != 0],\n",
        "                 x='null', y='nama_kolom', color='grey')\n",
        "plt.axvline(x=df.shape[0]/2, color='r', label='1/2 total baris')\n",
        "plt.title('Jumlah nilai null pada tiap kolom')\n",
        "\n",
        "for i, label in enumerate(ax.get_yticklabels()):\n",
        "    if understanding_df.reset_index().loc[i, 'null'] > df.shape[0]/2:\n",
        "        label.set_weight(\"bold\")\n",
        "        label.set_color(\"red\")\n",
        "    else:\n",
        "        label.set_color(\"black\")\n",
        "\n",
        "del_col = understanding_df[understanding_df['null'] > df.shape[0]/2]['nama_kolom']\n",
        "for col in del_col:\n",
        "  unused_col.add(col)\n",
        "\n",
        "df.drop(del_col, axis=1, inplace=True)\n",
        "\n",
        "understanding_df = understanding_df[understanding_df['null'] <= df.shape[0]/2]"
      ],
      "metadata": {
        "colab": {
          "base_uri": "https://localhost:8080/",
          "height": 621
        },
        "id": "lCJPN2A7P7Ae",
        "outputId": "1bd45d24-1994-4f0b-ee2b-8202fa78dc6a"
      },
      "execution_count": 7,
      "outputs": [
        {
          "output_type": "display_data",
          "data": {
            "text/plain": [
              "<Figure size 864x720 with 1 Axes>"
            ],
            "image/png": "[encoded data removed]"
          },
          "metadata": {
            "needs_background": "light"
          }
        }
      ]
    },
    {
      "cell_type": "markdown",
      "source": [
        "Selanjutnya akan diperiksa jumlah nilai unik pada tiap kolom.\n",
        "\n",
        "Terdapat 4 kolom yang terlalu unik dimana jumlah nilai uniknya sama dengan total kolom, yaitu:\n",
        "* Unnamed: 0\n",
        "* url\n",
        "* member_id\n",
        "* id\n",
        "\n",
        "Empat kolom tersebut akan dihapus."
      ],
      "metadata": {
        "id": "PdXREGdlcQpQ"
      }
    },
    {
      "cell_type": "code",
      "source": [
        "# Periksa jumlah nilai unik tiap kolom\n",
        "understanding_df.sort_values('nilai_unik', axis=0, inplace=True, ascending=False)\n",
        "\n",
        "plt.figure(figsize=(12,10))\n",
        "ax = sns.barplot(data=understanding_df,\n",
        "                 x='nilai_unik', y='nama_kolom', hue='tipe_data', dodge=False)\n",
        "plt.axvline(x=df.shape[0], color='r')\n",
        "plt.title('Jumlah nilai unik pada tiap kolom')\n",
        "\n",
        "for i, label in enumerate(ax.get_yticklabels()):\n",
        "    if understanding_df.reset_index().loc[i, 'nilai_unik'] == df.shape[0]:\n",
        "        label.set_weight(\"bold\")\n",
        "        label.set_color(\"red\")\n",
        "    else:\n",
        "        label.set_color(\"black\")\n",
        "\n",
        "del_col = understanding_df[understanding_df['nilai_unik'] == df.shape[0]]['nama_kolom']\n",
        "for col in del_col:\n",
        "  unused_col.add(col)\n",
        "\n",
        "df.drop(del_col, axis=1, inplace=True)\n",
        "\n",
        "understanding_df = understanding_df[understanding_df['nilai_unik'] < df.shape[0]]"
      ],
      "metadata": {
        "colab": {
          "base_uri": "https://localhost:8080/",
          "height": 622
        },
        "id": "bK_FyJ1dWq6d",
        "outputId": "1ff4ead7-3716-45c3-e552-7ae9164c86d9"
      },
      "execution_count": 8,
      "outputs": [
        {
          "output_type": "display_data",
          "data": {
            "text/plain": [
              "<Figure size 864x720 with 1 Axes>"
            ],
            "image/png": "[encoded data removed]"
          },
          "metadata": {
            "needs_background": "light"
          }
        }
      ]
    },
    {
      "cell_type": "markdown",
      "source": [
        "### Status Pinjaman (Target)"
      ],
      "metadata": {
        "id": "TZfbHblI-7Mb"
      }
    },
    {
      "cell_type": "markdown",
      "source": [
        "Variabel target yang akan digunakan pada project credit risk prediction ini adalah *loan_statun* yang berisi status apakah peminjam melunasi pinjamannya atau tidak."
      ],
      "metadata": {
        "id": "NvuAEmCs2M-0"
      }
    },
    {
      "cell_type": "code",
      "source": [
        "plt.figure(figsize=(10,6))\n",
        "sns.countplot(data=df, y='loan_status',\n",
        "              order=df['loan_status'].value_counts().index)\n",
        "plt.title('Jumlah kategori status pinjaman')"
      ],
      "metadata": {
        "colab": {
          "base_uri": "https://localhost:8080/",
          "height": 421
        },
        "id": "4Wl1GbAm2dAj",
        "outputId": "96b6102a-1e0c-4218-dfbb-27c38c977673"
      },
      "execution_count": 9,
      "outputs": [
        {
          "output_type": "execute_result",
          "data": {
            "text/plain": [
              "Text(0.5, 1.0, 'Jumlah kategori status pinjaman')"
            ]
          },
          "metadata": {},
          "execution_count": 9
        },
        {
          "output_type": "display_data",
          "data": {
            "text/plain": [
              "<Figure size 720x432 with 1 Axes>"
            ],
            "image/png": "[encoded data removed]"
          },
          "metadata": {
            "needs_background": "light"
          }
        }
      ]
    },
    {
      "cell_type": "markdown",
      "source": [
        "Pada project ini, akan dibuat sebuah model yang dapat memprediksi 2 risiko peminjam, yaitu:\n",
        "* Risiko rendah, yang terdiri dari kategori *Fully Paid*. Akan direpresentasikan dengan 0.\n",
        "* Risiko tinggi, yang terdiri dari kategori selain *Fully Paid*. Akan direpresentasikan dengan 1.\n",
        "\n",
        "Sedangkan kategori *current* tidak akan digunakan karena kategori ini menunjukan peminjam sedang dalam masa cicilan pinjaman, yang artinya belum diketahui risikonya."
      ],
      "metadata": {
        "id": "L3TX5iQ__thY"
      }
    },
    {
      "cell_type": "code",
      "source": [
        "low_risk = ['Fully Paid']\n",
        "high_risk = df['loan_status'].unique()\n",
        "high_risk = high_risk[(high_risk != 'Fully Paid') & (high_risk != 'Current')]\n",
        "\n",
        "def risk(col):\n",
        "  if col in high_risk:\n",
        "    return 1\n",
        "  return 0\n",
        "\n",
        "df = df[df['loan_status'] != 'Current']\n",
        "df['loan_status'] = df['loan_status'].apply(risk)"
      ],
      "metadata": {
        "id": "15HrpUTMPb8m"
      },
      "execution_count": 10,
      "outputs": []
    },
    {
      "cell_type": "code",
      "source": [
        "sns.countplot(data=df, y='loan_status')"
      ],
      "metadata": {
        "colab": {
          "base_uri": "https://localhost:8080/",
          "height": 296
        },
        "id": "o572hhKAWJR0",
        "outputId": "70c33ab3-8c3b-4dc6-8195-64e04312613f"
      },
      "execution_count": 11,
      "outputs": [
        {
          "output_type": "execute_result",
          "data": {
            "text/plain": [
              "<matplotlib.axes._subplots.AxesSubplot at 0x7f8131ee4700>"
            ]
          },
          "metadata": {},
          "execution_count": 11
        },
        {
          "output_type": "display_data",
          "data": {
            "text/plain": [
              "<Figure size 432x288 with 1 Axes>"
            ],
            "image/png": "[encoded data removed]"
          },
          "metadata": {
            "needs_background": "light"
          }
        }
      ]
    },
    {
      "cell_type": "markdown",
      "source": [
        "## Exploratory Data Analysis 2"
      ],
      "metadata": {
        "id": "Hdqb4LwpZeE_"
      }
    },
    {
      "cell_type": "markdown",
      "source": [
        "Kategori *Current* mengisi hampir setengah dari total baris pada data. Sehingga ketika baris dengan *loan_status* = *Current* dihapus, jumlah baris dataset berkurang drastis. \n",
        "\n",
        "Oleh karena itu akan diperiksa kembali kolom yang memiliki nilai null lebih dari setengah total baris.\n",
        "\n",
        "Ditemukan 1 baris dengan jumlah nilai null lebih dari setengah total baris, yaitu *next_pymnt_d*. Kolom ini akan dihapus."
      ],
      "metadata": {
        "id": "O7bJa5NNXpYG"
      }
    },
    {
      "cell_type": "code",
      "source": [
        "understanding_df.sort_values('null', axis=0, inplace=True, ascending=False)\n",
        "\n",
        "plt.figure(figsize=(12,10))\n",
        "sns.barplot(data=understanding_df[understanding_df['null'] != 0],\n",
        "            x='null', y='nama_kolom', color='grey')\n",
        "plt.axvline(x=df.shape[0]/2, color='r', label='1/2 total baris')\n",
        "plt.title('Jumlah nilai null pada tiap kolom')\n",
        "\n",
        "del_col = understanding_df[understanding_df['null'] > df.shape[0]/2]['nama_kolom']\n",
        "for col in del_col:\n",
        "  unused_col.add(col)\n",
        "\n",
        "df.drop(del_col, axis=1, inplace=True)\n",
        "\n",
        "understanding_df = understanding_df[understanding_df['null'] <= df.shape[0]/2]"
      ],
      "metadata": {
        "colab": {
          "base_uri": "https://localhost:8080/",
          "height": 621
        },
        "id": "bL-31LX-XHqO",
        "outputId": "a200303d-df4e-4570-b622-1e6d0e602b02"
      },
      "execution_count": 12,
      "outputs": [
        {
          "output_type": "display_data",
          "data": {
            "text/plain": [
              "<Figure size 864x720 with 1 Axes>"
            ],
            "image/png": "[encoded data removed]"
          },
          "metadata": {
            "needs_background": "light"
          }
        }
      ]
    },
    {
      "cell_type": "markdown",
      "source": [
        "Selanjutnya akan diperiksa nilai unik pada kolom dengan tipe data object.\n",
        "\n",
        "Jika terdapat nilai unik yang sangat banyak pada suatu kolom dengan tipe data object, maka ini akan memberikan beban yang besar pada proses komputasi karena data objek ini akan diubah dengan teknik one hot encoding.\n",
        "\n",
        "Jumlah nilai unik pada kolom dengan tipe data object akan dibatasi maksimal 100. \n",
        "\n",
        "Terdapat 5 kolom dengan nilai unik yang lebih dari 100, yaitu:\n",
        "* emp_title\n",
        "* title\n",
        "* zip_code\n",
        "* earliest_cr_line\n",
        "* last_credit_pull_d\n",
        "\n",
        "Lima kolom ini akan dihapus."
      ],
      "metadata": {
        "id": "JVxzzU5OY7Dz"
      }
    },
    {
      "cell_type": "code",
      "source": [
        "understanding_df.sort_values('nilai_unik', axis=0, \n",
        "                             inplace=True, ascending=False)\n",
        "\n",
        "object_only = understanding_df[understanding_df['tipe_data'] == 'object']\n",
        "object_only.reset_index(drop=True, inplace=True)\n",
        "\n",
        "plt.figure(figsize=(12,12))\n",
        "ax = sns.barplot(data=understanding_df[understanding_df['tipe_data'] == 'object'],\n",
        "                 x='nilai_unik', y='nama_kolom', color='grey')\n",
        "plt.axvline(x=100, color='r', label='1/2 total baris')\n",
        "plt.title('Jumlah nilai unik pada tiap kolom')\n",
        "\n",
        "for i, label in enumerate(ax.get_yticklabels()):\n",
        "    if object_only.loc[i, 'nilai_unik'] >= 100:\n",
        "        label.set_weight(\"bold\")\n",
        "        label.set_color(\"red\")\n",
        "    else:\n",
        "        label.set_color(\"black\")\n",
        "\n",
        "del_col = object_only[object_only['nilai_unik'] > 100]['nama_kolom']\n",
        "for col in del_col:\n",
        "  unused_col.add(col)\n",
        "\n",
        "df.drop(del_col, axis=1, inplace=True)\n",
        "\n",
        "understanding_df = understanding_df[understanding_df['nilai_unik'] <= 100]"
      ],
      "metadata": {
        "colab": {
          "base_uri": "https://localhost:8080/",
          "height": 731
        },
        "id": "XOdQkzPsZVeH",
        "outputId": "baee0fa0-5ea0-43e5-9cd2-db3717eabc4c"
      },
      "execution_count": 13,
      "outputs": [
        {
          "output_type": "display_data",
          "data": {
            "text/plain": [
              "<Figure size 864x864 with 1 Axes>"
            ],
            "image/png": "[encoded data removed]"
          },
          "metadata": {
            "needs_background": "light"
          }
        }
      ]
    },
    {
      "cell_type": "code",
      "source": [
        "understanding_df"
      ],
      "metadata": {
        "colab": {
          "base_uri": "https://localhost:8080/",
          "height": 708
        },
        "id": "wj-XXMm6_-T6",
        "outputId": "90aaf613-9711-484d-8c8d-08be8ffeeeff"
      },
      "execution_count": 14,
      "outputs": [
        {
          "output_type": "execute_result",
          "data": {
            "text/plain": [
              "                    nama_kolom tipe_data   null  nilai_unik  \\\n",
              "46                last_pymnt_d    object    376          99   \n",
              "16                     issue_d    object      0          91   \n",
              "31                    open_acc   float64     29          63   \n",
              "24                  addr_state    object      0          50   \n",
              "10                   sub_grade    object      0          35   \n",
              "28              inq_last_6mths   float64     29          29   \n",
              "32                     pub_rec   float64     29          27   \n",
              "26                 delinq_2yrs   float64     29          25   \n",
              "21                     purpose    object      0          14   \n",
              "12                  emp_length    object  21008          12   \n",
              "50  collections_12_mths_ex_med   float64    145          10   \n",
              "17                 loan_status    object      0           9   \n",
              "54              acc_now_delinq   float64     29           7   \n",
              "9                        grade    object      0           7   \n",
              "13              home_ownership    object      0           6   \n",
              "15         verification_status    object      0           3   \n",
              "36         initial_list_status    object      0           2   \n",
              "6                         term    object      0           2   \n",
              "18                  pymnt_plan    object      0           2   \n",
              "52                 policy_code     int64      0           1   \n",
              "53            application_type    object      0           1   \n",
              "\n",
              "                                         sampel_nilai  \n",
              "46  [Jan-15, Apr-13, Jun-14, Jan-16, Apr-12, Nov-1...  \n",
              "16  [Dec-11, Nov-11, Oct-11, Sep-11, Aug-11, Jul-1...  \n",
              "31  [3.0, 2.0, 10.0, 15.0, 9.0, 7.0, 4.0, 11.0, 14...  \n",
              "24           [AZ, GA, IL, CA, OR, NC, TX, VA, MO, CT]  \n",
              "10           [B2, C4, C5, C1, B5, A4, E1, F2, C3, B1]  \n",
              "28  [1.0, 5.0, 2.0, 0.0, 3.0, 4.0, 6.0, 7.0, 8.0, ...  \n",
              "32  [0.0, 1.0, 2.0, 3.0, 4.0, 5.0, nan, 6.0, 9.0, ...  \n",
              "26  [0.0, 2.0, 3.0, 1.0, 4.0, 6.0, 5.0, 8.0, 7.0, ...  \n",
              "21  [credit_card, car, small_business, other, wedd...  \n",
              "12  [10+ years, < 1 year, 1 year, 3 years, 8 years...  \n",
              "50  [0.0, nan, 1.0, 2.0, 4.0, 3.0, 6.0, 16.0, 20.0...  \n",
              "17  [Fully Paid, Charged Off, Current, Default, La...  \n",
              "54                [0.0, 1.0, nan, 2.0, 3.0, 5.0, 4.0]  \n",
              "9                               [B, C, A, E, F, D, G]  \n",
              "13            [RENT, OWN, MORTGAGE, OTHER, NONE, ANY]  \n",
              "15          [Verified, Source Verified, Not Verified]  \n",
              "36                                             [f, w]  \n",
              "6                            [ 36 months,  60 months]  \n",
              "18                                             [n, y]  \n",
              "52                                                [1]  \n",
              "53                                       [INDIVIDUAL]  "
            ],
            "text/html": [
              "\n",
              "  <div id=\"df-f6f72101-9801-48de-88e3-f044ffc70021\">\n",
              "    <div class=\"colab-df-container\">\n",
              "      <div>\n",
              "<style scoped>\n",
              "    .dataframe tbody tr th:only-of-type {\n",
              "        vertical-align: middle;\n",
              "    }\n",
              "\n",
              "    .dataframe tbody tr th {\n",
              "        vertical-align: top;\n",
              "    }\n",
              "\n",
              "    .dataframe thead th {\n",
              "        text-align: right;\n",
              "    }\n",
              "</style>\n",
              "<table border=\"1\" class=\"dataframe\">\n",
              "  <thead>\n",
              "    <tr style=\"text-align: right;\">\n",
              "      <th></th>\n",
              "      <th>nama_kolom</th>\n",
              "      <th>tipe_data</th>\n",
              "      <th>null</th>\n",
              "      <th>nilai_unik</th>\n",
              "      <th>sampel_nilai</th>\n",
              "    </tr>\n",
              "  </thead>\n",
              "  <tbody>\n",
              "    <tr>\n",
              "      <th>46</th>\n",
              "      <td>last_pymnt_d</td>\n",
              "      <td>object</td>\n",
              "      <td>376</td>\n",
              "      <td>99</td>\n",
              "      <td>[Jan-15, Apr-13, Jun-14, Jan-16, Apr-12, Nov-1...</td>\n",
              "    </tr>\n",
              "    <tr>\n",
              "      <th>16</th>\n",
              "      <td>issue_d</td>\n",
              "      <td>object</td>\n",
              "      <td>0</td>\n",
              "      <td>91</td>\n",
              "      <td>[Dec-11, Nov-11, Oct-11, Sep-11, Aug-11, Jul-1...</td>\n",
              "    </tr>\n",
              "    <tr>\n",
              "      <th>31</th>\n",
              "      <td>open_acc</td>\n",
              "      <td>float64</td>\n",
              "      <td>29</td>\n",
              "      <td>63</td>\n",
              "      <td>[3.0, 2.0, 10.0, 15.0, 9.0, 7.0, 4.0, 11.0, 14...</td>\n",
              "    </tr>\n",
              "    <tr>\n",
              "      <th>24</th>\n",
              "      <td>addr_state</td>\n",
              "      <td>object</td>\n",
              "      <td>0</td>\n",
              "      <td>50</td>\n",
              "      <td>[AZ, GA, IL, CA, OR, NC, TX, VA, MO, CT]</td>\n",
              "    </tr>\n",
              "    <tr>\n",
              "      <th>10</th>\n",
              "      <td>sub_grade</td>\n",
              "      <td>object</td>\n",
              "      <td>0</td>\n",
              "      <td>35</td>\n",
              "      <td>[B2, C4, C5, C1, B5, A4, E1, F2, C3, B1]</td>\n",
              "    </tr>\n",
              "    <tr>\n",
              "      <th>28</th>\n",
              "      <td>inq_last_6mths</td>\n",
              "      <td>float64</td>\n",
              "      <td>29</td>\n",
              "      <td>29</td>\n",
              "      <td>[1.0, 5.0, 2.0, 0.0, 3.0, 4.0, 6.0, 7.0, 8.0, ...</td>\n",
              "    </tr>\n",
              "    <tr>\n",
              "      <th>32</th>\n",
              "      <td>pub_rec</td>\n",
              "      <td>float64</td>\n",
              "      <td>29</td>\n",
              "      <td>27</td>\n",
              "      <td>[0.0, 1.0, 2.0, 3.0, 4.0, 5.0, nan, 6.0, 9.0, ...</td>\n",
              "    </tr>\n",
              "    <tr>\n",
              "      <th>26</th>\n",
              "      <td>delinq_2yrs</td>\n",
              "      <td>float64</td>\n",
              "      <td>29</td>\n",
              "      <td>25</td>\n",
              "      <td>[0.0, 2.0, 3.0, 1.0, 4.0, 6.0, 5.0, 8.0, 7.0, ...</td>\n",
              "    </tr>\n",
              "    <tr>\n",
              "      <th>21</th>\n",
              "      <td>purpose</td>\n",
              "      <td>object</td>\n",
              "      <td>0</td>\n",
              "      <td>14</td>\n",
              "      <td>[credit_card, car, small_business, other, wedd...</td>\n",
              "    </tr>\n",
              "    <tr>\n",
              "      <th>12</th>\n",
              "      <td>emp_length</td>\n",
              "      <td>object</td>\n",
              "      <td>21008</td>\n",
              "      <td>12</td>\n",
              "      <td>[10+ years, &lt; 1 year, 1 year, 3 years, 8 years...</td>\n",
              "    </tr>\n",
              "    <tr>\n",
              "      <th>50</th>\n",
              "      <td>collections_12_mths_ex_med</td>\n",
              "      <td>float64</td>\n",
              "      <td>145</td>\n",
              "      <td>10</td>\n",
              "      <td>[0.0, nan, 1.0, 2.0, 4.0, 3.0, 6.0, 16.0, 20.0...</td>\n",
              "    </tr>\n",
              "    <tr>\n",
              "      <th>17</th>\n",
              "      <td>loan_status</td>\n",
              "      <td>object</td>\n",
              "      <td>0</td>\n",
              "      <td>9</td>\n",
              "      <td>[Fully Paid, Charged Off, Current, Default, La...</td>\n",
              "    </tr>\n",
              "    <tr>\n",
              "      <th>54</th>\n",
              "      <td>acc_now_delinq</td>\n",
              "      <td>float64</td>\n",
              "      <td>29</td>\n",
              "      <td>7</td>\n",
              "      <td>[0.0, 1.0, nan, 2.0, 3.0, 5.0, 4.0]</td>\n",
              "    </tr>\n",
              "    <tr>\n",
              "      <th>9</th>\n",
              "      <td>grade</td>\n",
              "      <td>object</td>\n",
              "      <td>0</td>\n",
              "      <td>7</td>\n",
              "      <td>[B, C, A, E, F, D, G]</td>\n",
              "    </tr>\n",
              "    <tr>\n",
              "      <th>13</th>\n",
              "      <td>home_ownership</td>\n",
              "      <td>object</td>\n",
              "      <td>0</td>\n",
              "      <td>6</td>\n",
              "      <td>[RENT, OWN, MORTGAGE, OTHER, NONE, ANY]</td>\n",
              "    </tr>\n",
              "    <tr>\n",
              "      <th>15</th>\n",
              "      <td>verification_status</td>\n",
              "      <td>object</td>\n",
              "      <td>0</td>\n",
              "      <td>3</td>\n",
              "      <td>[Verified, Source Verified, Not Verified]</td>\n",
              "    </tr>\n",
              "    <tr>\n",
              "      <th>36</th>\n",
              "      <td>initial_list_status</td>\n",
              "      <td>object</td>\n",
              "      <td>0</td>\n",
              "      <td>2</td>\n",
              "      <td>[f, w]</td>\n",
              "    </tr>\n",
              "    <tr>\n",
              "      <th>6</th>\n",
              "      <td>term</td>\n",
              "      <td>object</td>\n",
              "      <td>0</td>\n",
              "      <td>2</td>\n",
              "      <td>[ 36 months,  60 months]</td>\n",
              "    </tr>\n",
              "    <tr>\n",
              "      <th>18</th>\n",
              "      <td>pymnt_plan</td>\n",
              "      <td>object</td>\n",
              "      <td>0</td>\n",
              "      <td>2</td>\n",
              "      <td>[n, y]</td>\n",
              "    </tr>\n",
              "    <tr>\n",
              "      <th>52</th>\n",
              "      <td>policy_code</td>\n",
              "      <td>int64</td>\n",
              "      <td>0</td>\n",
              "      <td>1</td>\n",
              "      <td>[1]</td>\n",
              "    </tr>\n",
              "    <tr>\n",
              "      <th>53</th>\n",
              "      <td>application_type</td>\n",
              "      <td>object</td>\n",
              "      <td>0</td>\n",
              "      <td>1</td>\n",
              "      <td>[INDIVIDUAL]</td>\n",
              "    </tr>\n",
              "  </tbody>\n",
              "</table>\n",
              "</div>\n",
              "      <button class=\"colab-df-convert\" onclick=\"convertToInteractive('df-f6f72101-9801-48de-88e3-f044ffc70021')\"\n",
              "              title=\"Convert this dataframe to an interactive table.\"\n",
              "              style=\"display:none;\">\n",
              "        \n",
              "  <svg xmlns=\"http://www.w3.org/2000/svg\" height=\"24px\"viewBox=\"0 0 24 24\"\n",
              "       width=\"24px\">\n",
              "    <path d=\"M0 0h24v24H0V0z\" fill=\"none\"/>\n",
              "    <path d=\"M18.56 5.44l.94 2.06.94-2.06 2.06-.94-2.06-.94-.94-2.06-.94 2.06-2.06.94zm-11 1L8.5 8.5l.94-2.06 2.06-.94-2.06-.94L8.5 2.5l-.94 2.06-2.06.94zm10 10l.94 2.06.94-2.06 2.06-.94-2.06-.94-.94-2.06-.94 2.06-2.06.94z\"/><path d=\"M17.41 7.96l-1.37-1.37c-.4-.4-.92-.59-1.43-.59-.52 0-1.04.2-1.43.59L10.3 9.45l-7.72 7.72c-.78.78-.78 2.05 0 2.83L4 21.41c.39.39.9.59 1.41.59.51 0 1.02-.2 1.41-.59l7.78-7.78 2.81-2.81c.8-.78.8-2.07 0-2.86zM5.41 20L4 18.59l7.72-7.72 1.47 1.35L5.41 20z\"/>\n",
              "  </svg>\n",
              "      </button>\n",
              "      \n",
              "  <style>\n",
              "    .colab-df-container {\n",
              "      display:flex;\n",
              "      flex-wrap:wrap;\n",
              "      gap: 12px;\n",
              "    }\n",
              "\n",
              "    .colab-df-convert {\n",
              "      background-color: #E8F0FE;\n",
              "      border: none;\n",
              "      border-radius: 50%;\n",
              "      cursor: pointer;\n",
              "      display: none;\n",
              "      fill: #1967D2;\n",
              "      height: 32px;\n",
              "      padding: 0 0 0 0;\n",
              "      width: 32px;\n",
              "    }\n",
              "\n",
              "    .colab-df-convert:hover {\n",
              "      background-color: #E2EBFA;\n",
              "      box-shadow: 0px 1px 2px rgba(60, 64, 67, 0.3), 0px 1px 3px 1px rgba(60, 64, 67, 0.15);\n",
              "      fill: #174EA6;\n",
              "    }\n",
              "\n",
              "    [theme=dark] .colab-df-convert {\n",
              "      background-color: #3B4455;\n",
              "      fill: #D2E3FC;\n",
              "    }\n",
              "\n",
              "    [theme=dark] .colab-df-convert:hover {\n",
              "      background-color: #434B5C;\n",
              "      box-shadow: 0px 1px 3px 1px rgba(0, 0, 0, 0.15);\n",
              "      filter: drop-shadow(0px 1px 2px rgba(0, 0, 0, 0.3));\n",
              "      fill: #FFFFFF;\n",
              "    }\n",
              "  </style>\n",
              "\n",
              "      <script>\n",
              "        const buttonEl =\n",
              "          document.querySelector('#df-f6f72101-9801-48de-88e3-f044ffc70021 button.colab-df-convert');\n",
              "        buttonEl.style.display =\n",
              "          google.colab.kernel.accessAllowed ? 'block' : 'none';\n",
              "\n",
              "        async function convertToInteractive(key) {\n",
              "          const element = document.querySelector('#df-f6f72101-9801-48de-88e3-f044ffc70021');\n",
              "          const dataTable =\n",
              "            await google.colab.kernel.invokeFunction('convertToInteractive',\n",
              "                                                     [key], {});\n",
              "          if (!dataTable) return;\n",
              "\n",
              "          const docLinkHtml = 'Like what you see? Visit the ' +\n",
              "            '<a target=\"_blank\" href=https://colab.research.google.com/notebooks/data_table.ipynb>data table notebook</a>'\n",
              "            + ' to learn more about interactive tables.';\n",
              "          element.innerHTML = '';\n",
              "          dataTable['output_type'] = 'display_data';\n",
              "          await google.colab.output.renderOutput(dataTable, element);\n",
              "          const docLink = document.createElement('div');\n",
              "          docLink.innerHTML = docLinkHtml;\n",
              "          element.appendChild(docLink);\n",
              "        }\n",
              "      </script>\n",
              "    </div>\n",
              "  </div>\n",
              "  "
            ]
          },
          "metadata": {},
          "execution_count": 14
        }
      ]
    },
    {
      "cell_type": "markdown",
      "source": [
        "Terdapat 2 kolom yang hanya memiliki satu nilai unik, yaitu *policy_code* dan *application_type*. Kedua kolom ini tidak akan memberikan pengaruh terhadap prediksi. Sehingga kedua kolom tersebut akan dihapus."
      ],
      "metadata": {
        "id": "d9brihQNDBP9"
      }
    },
    {
      "cell_type": "code",
      "source": [
        "del_col = object_only[object_only['nilai_unik'] == 1]['nama_kolom']\n",
        "for col in del_col:\n",
        "  unused_col.add(col)\n",
        "\n",
        "df.drop(del_col, axis=1, inplace=True)\n",
        "\n",
        "understanding_df = understanding_df[understanding_df['nilai_unik'] > 1]"
      ],
      "metadata": {
        "id": "JTwAcGEnDS_l"
      },
      "execution_count": 15,
      "outputs": []
    },
    {
      "cell_type": "markdown",
      "source": [
        "### Eksplorasi variabel kategorik\n",
        "\n"
      ],
      "metadata": {
        "id": "hn4VDZ89EP7R"
      }
    },
    {
      "cell_type": "code",
      "source": [
        "understanding_df = info(df)\n",
        "understanding_df[lambda x: x['tipe_data'] == 'object']"
      ],
      "metadata": {
        "colab": {
          "base_uri": "https://localhost:8080/",
          "height": 426
        },
        "id": "-FMTAbtmEUTw",
        "outputId": "e5751039-9282-4eb6-fa9d-5417b59806fc"
      },
      "execution_count": 16,
      "outputs": [
        {
          "output_type": "execute_result",
          "data": {
            "text/plain": [
              "             nama_kolom tipe_data  null  nilai_unik  \\\n",
              "3                  term    object     0           2   \n",
              "6                 grade    object     0           7   \n",
              "7             sub_grade    object     0          35   \n",
              "8            emp_length    object  9327          12   \n",
              "9        home_ownership    object     0           6   \n",
              "11  verification_status    object     0           3   \n",
              "12              issue_d    object     0          91   \n",
              "14           pymnt_plan    object     0           2   \n",
              "15              purpose    object     0          14   \n",
              "16           addr_state    object     0          50   \n",
              "25  initial_list_status    object     0           2   \n",
              "35         last_pymnt_d    object   376          99   \n",
              "\n",
              "                                         sampel_nilai  \n",
              "3                            [ 36 months,  60 months]  \n",
              "6                               [B, C, A, E, F, D, G]  \n",
              "7            [B2, C4, C5, C1, A4, E1, F2, B5, C3, B1]  \n",
              "8   [10+ years, < 1 year, 3 years, 9 years, 4 year...  \n",
              "9             [RENT, OWN, MORTGAGE, OTHER, NONE, ANY]  \n",
              "11          [Verified, Source Verified, Not Verified]  \n",
              "12  [Dec-11, Nov-11, Oct-11, Sep-11, Aug-11, Jul-1...  \n",
              "14                                             [n, y]  \n",
              "15  [credit_card, car, small_business, other, wedd...  \n",
              "16           [AZ, GA, IL, CA, TX, VA, MO, CT, UT, FL]  \n",
              "25                                             [f, w]  \n",
              "35  [Jan-15, Apr-13, Jun-14, Apr-12, Nov-12, Jun-1...  "
            ],
            "text/html": [
              "\n",
              "  <div id=\"df-957ca030-f056-4314-aea1-dc9a7755bd9e\">\n",
              "    <div class=\"colab-df-container\">\n",
              "      <div>\n",
              "<style scoped>\n",
              "    .dataframe tbody tr th:only-of-type {\n",
              "        vertical-align: middle;\n",
              "    }\n",
              "\n",
              "    .dataframe tbody tr th {\n",
              "        vertical-align: top;\n",
              "    }\n",
              "\n",
              "    .dataframe thead th {\n",
              "        text-align: right;\n",
              "    }\n",
              "</style>\n",
              "<table border=\"1\" class=\"dataframe\">\n",
              "  <thead>\n",
              "    <tr style=\"text-align: right;\">\n",
              "      <th></th>\n",
              "      <th>nama_kolom</th>\n",
              "      <th>tipe_data</th>\n",
              "      <th>null</th>\n",
              "      <th>nilai_unik</th>\n",
              "      <th>sampel_nilai</th>\n",
              "    </tr>\n",
              "  </thead>\n",
              "  <tbody>\n",
              "    <tr>\n",
              "      <th>3</th>\n",
              "      <td>term</td>\n",
              "      <td>object</td>\n",
              "      <td>0</td>\n",
              "      <td>2</td>\n",
              "      <td>[ 36 months,  60 months]</td>\n",
              "    </tr>\n",
              "    <tr>\n",
              "      <th>6</th>\n",
              "      <td>grade</td>\n",
              "      <td>object</td>\n",
              "      <td>0</td>\n",
              "      <td>7</td>\n",
              "      <td>[B, C, A, E, F, D, G]</td>\n",
              "    </tr>\n",
              "    <tr>\n",
              "      <th>7</th>\n",
              "      <td>sub_grade</td>\n",
              "      <td>object</td>\n",
              "      <td>0</td>\n",
              "      <td>35</td>\n",
              "      <td>[B2, C4, C5, C1, A4, E1, F2, B5, C3, B1]</td>\n",
              "    </tr>\n",
              "    <tr>\n",
              "      <th>8</th>\n",
              "      <td>emp_length</td>\n",
              "      <td>object</td>\n",
              "      <td>9327</td>\n",
              "      <td>12</td>\n",
              "      <td>[10+ years, &lt; 1 year, 3 years, 9 years, 4 year...</td>\n",
              "    </tr>\n",
              "    <tr>\n",
              "      <th>9</th>\n",
              "      <td>home_ownership</td>\n",
              "      <td>object</td>\n",
              "      <td>0</td>\n",
              "      <td>6</td>\n",
              "      <td>[RENT, OWN, MORTGAGE, OTHER, NONE, ANY]</td>\n",
              "    </tr>\n",
              "    <tr>\n",
              "      <th>11</th>\n",
              "      <td>verification_status</td>\n",
              "      <td>object</td>\n",
              "      <td>0</td>\n",
              "      <td>3</td>\n",
              "      <td>[Verified, Source Verified, Not Verified]</td>\n",
              "    </tr>\n",
              "    <tr>\n",
              "      <th>12</th>\n",
              "      <td>issue_d</td>\n",
              "      <td>object</td>\n",
              "      <td>0</td>\n",
              "      <td>91</td>\n",
              "      <td>[Dec-11, Nov-11, Oct-11, Sep-11, Aug-11, Jul-1...</td>\n",
              "    </tr>\n",
              "    <tr>\n",
              "      <th>14</th>\n",
              "      <td>pymnt_plan</td>\n",
              "      <td>object</td>\n",
              "      <td>0</td>\n",
              "      <td>2</td>\n",
              "      <td>[n, y]</td>\n",
              "    </tr>\n",
              "    <tr>\n",
              "      <th>15</th>\n",
              "      <td>purpose</td>\n",
              "      <td>object</td>\n",
              "      <td>0</td>\n",
              "      <td>14</td>\n",
              "      <td>[credit_card, car, small_business, other, wedd...</td>\n",
              "    </tr>\n",
              "    <tr>\n",
              "      <th>16</th>\n",
              "      <td>addr_state</td>\n",
              "      <td>object</td>\n",
              "      <td>0</td>\n",
              "      <td>50</td>\n",
              "      <td>[AZ, GA, IL, CA, TX, VA, MO, CT, UT, FL]</td>\n",
              "    </tr>\n",
              "    <tr>\n",
              "      <th>25</th>\n",
              "      <td>initial_list_status</td>\n",
              "      <td>object</td>\n",
              "      <td>0</td>\n",
              "      <td>2</td>\n",
              "      <td>[f, w]</td>\n",
              "    </tr>\n",
              "    <tr>\n",
              "      <th>35</th>\n",
              "      <td>last_pymnt_d</td>\n",
              "      <td>object</td>\n",
              "      <td>376</td>\n",
              "      <td>99</td>\n",
              "      <td>[Jan-15, Apr-13, Jun-14, Apr-12, Nov-12, Jun-1...</td>\n",
              "    </tr>\n",
              "  </tbody>\n",
              "</table>\n",
              "</div>\n",
              "      <button class=\"colab-df-convert\" onclick=\"convertToInteractive('df-957ca030-f056-4314-aea1-dc9a7755bd9e')\"\n",
              "              title=\"Convert this dataframe to an interactive table.\"\n",
              "              style=\"display:none;\">\n",
              "        \n",
              "  <svg xmlns=\"http://www.w3.org/2000/svg\" height=\"24px\"viewBox=\"0 0 24 24\"\n",
              "       width=\"24px\">\n",
              "    <path d=\"M0 0h24v24H0V0z\" fill=\"none\"/>\n",
              "    <path d=\"M18.56 5.44l.94 2.06.94-2.06 2.06-.94-2.06-.94-.94-2.06-.94 2.06-2.06.94zm-11 1L8.5 8.5l.94-2.06 2.06-.94-2.06-.94L8.5 2.5l-.94 2.06-2.06.94zm10 10l.94 2.06.94-2.06 2.06-.94-2.06-.94-.94-2.06-.94 2.06-2.06.94z\"/><path d=\"M17.41 7.96l-1.37-1.37c-.4-.4-.92-.59-1.43-.59-.52 0-1.04.2-1.43.59L10.3 9.45l-7.72 7.72c-.78.78-.78 2.05 0 2.83L4 21.41c.39.39.9.59 1.41.59.51 0 1.02-.2 1.41-.59l7.78-7.78 2.81-2.81c.8-.78.8-2.07 0-2.86zM5.41 20L4 18.59l7.72-7.72 1.47 1.35L5.41 20z\"/>\n",
              "  </svg>\n",
              "      </button>\n",
              "      \n",
              "  <style>\n",
              "    .colab-df-container {\n",
              "      display:flex;\n",
              "      flex-wrap:wrap;\n",
              "      gap: 12px;\n",
              "    }\n",
              "\n",
              "    .colab-df-convert {\n",
              "      background-color: #E8F0FE;\n",
              "      border: none;\n",
              "      border-radius: 50%;\n",
              "      cursor: pointer;\n",
              "      display: none;\n",
              "      fill: #1967D2;\n",
              "      height: 32px;\n",
              "      padding: 0 0 0 0;\n",
              "      width: 32px;\n",
              "    }\n",
              "\n",
              "    .colab-df-convert:hover {\n",
              "      background-color: #E2EBFA;\n",
              "      box-shadow: 0px 1px 2px rgba(60, 64, 67, 0.3), 0px 1px 3px 1px rgba(60, 64, 67, 0.15);\n",
              "      fill: #174EA6;\n",
              "    }\n",
              "\n",
              "    [theme=dark] .colab-df-convert {\n",
              "      background-color: #3B4455;\n",
              "      fill: #D2E3FC;\n",
              "    }\n",
              "\n",
              "    [theme=dark] .colab-df-convert:hover {\n",
              "      background-color: #434B5C;\n",
              "      box-shadow: 0px 1px 3px 1px rgba(0, 0, 0, 0.15);\n",
              "      filter: drop-shadow(0px 1px 2px rgba(0, 0, 0, 0.3));\n",
              "      fill: #FFFFFF;\n",
              "    }\n",
              "  </style>\n",
              "\n",
              "      <script>\n",
              "        const buttonEl =\n",
              "          document.querySelector('#df-957ca030-f056-4314-aea1-dc9a7755bd9e button.colab-df-convert');\n",
              "        buttonEl.style.display =\n",
              "          google.colab.kernel.accessAllowed ? 'block' : 'none';\n",
              "\n",
              "        async function convertToInteractive(key) {\n",
              "          const element = document.querySelector('#df-957ca030-f056-4314-aea1-dc9a7755bd9e');\n",
              "          const dataTable =\n",
              "            await google.colab.kernel.invokeFunction('convertToInteractive',\n",
              "                                                     [key], {});\n",
              "          if (!dataTable) return;\n",
              "\n",
              "          const docLinkHtml = 'Like what you see? Visit the ' +\n",
              "            '<a target=\"_blank\" href=https://colab.research.google.com/notebooks/data_table.ipynb>data table notebook</a>'\n",
              "            + ' to learn more about interactive tables.';\n",
              "          element.innerHTML = '';\n",
              "          dataTable['output_type'] = 'display_data';\n",
              "          await google.colab.output.renderOutput(dataTable, element);\n",
              "          const docLink = document.createElement('div');\n",
              "          docLink.innerHTML = docLinkHtml;\n",
              "          element.appendChild(docLink);\n",
              "        }\n",
              "      </script>\n",
              "    </div>\n",
              "  </div>\n",
              "  "
            ]
          },
          "metadata": {},
          "execution_count": 16
        }
      ]
    },
    {
      "cell_type": "markdown",
      "source": [
        "Terdapat beberapa variabel dengan tipe data kategorik. \n",
        "\n",
        "* Variabel *last_pymnt_d* akan dihapus karena memiliki nilai unik yang cukup banyak.\n",
        "* Variabel *issue_d* akan digunakan untuk membuat variabel baru bernama *risk_score* yang terdiri dari 2 nilai, yaitu FICO untuk *issue_d* sebelum 5 November 2013, dan Vantage untuk *issue_d* setelah 5 November 2013. Setelah diperoleh variabel *risk_score*, variabel *issue_d* akan dihapus.\n",
        "* Variabel yang hanya memiliki dua nilai unik akan diubah nilainya menjadi 0 dan 1.\n",
        "* Variabel *emp_length* akan diubah menjadi integer dengan mengambil nilai tahunnya.\n",
        "\n",
        "Sisa variabel akan diubah menjadi numerik menggunakan one hot encoding."
      ],
      "metadata": {
        "id": "63eoN9bKEzAs"
      }
    },
    {
      "cell_type": "markdown",
      "source": [
        "#### Variabel *risk_score*"
      ],
      "metadata": {
        "id": "3DN3AYBqHsov"
      }
    },
    {
      "cell_type": "code",
      "source": [
        "df['issue_d'] = pd.to_datetime(df['issue_d'], format='%b-%y')\n",
        "\n",
        "def risk_score(row):\n",
        "  if row['issue_d'] < pd.Timestamp('2013-11-05'):\n",
        "    return 0\n",
        "  else:\n",
        "    return 1\n",
        "\n",
        "df['risk_score'] = df.apply(risk_score, axis=1)\n",
        "\n",
        "df = df.drop('issue_d', axis=1)\n",
        "\n",
        "unused_col.add('issue_d')"
      ],
      "metadata": {
        "id": "dCzNVwicHAE5"
      },
      "execution_count": 17,
      "outputs": []
    },
    {
      "cell_type": "markdown",
      "source": [
        "Nilai 0 = 'FICO'\n",
        "\n",
        "Nilai 1 = 'Vantage"
      ],
      "metadata": {
        "id": "m3fyW5XlH7Wx"
      }
    },
    {
      "cell_type": "code",
      "source": [
        "df = df.drop('last_pymnt_d', axis=1)\n",
        "\n",
        "unused_col.add('last_pymnt_d')\n",
        "\n",
        "understanding_df = info(df)"
      ],
      "metadata": {
        "id": "OlwPvIfvMjqb"
      },
      "execution_count": 18,
      "outputs": []
    },
    {
      "cell_type": "markdown",
      "source": [
        "#### Variabel kategorik dengan 2 nilai unik"
      ],
      "metadata": {
        "id": "gDOP6bo4MvBv"
      }
    },
    {
      "cell_type": "code",
      "source": [
        "zero = [' 36 months', 'n', 'f']\n",
        "colnames = ['initial_list_status', 'term', 'pymnt_plan']\n",
        "\n",
        "def zero_one(row):\n",
        "  global colname\n",
        "  if row[colname] in zero:\n",
        "    return 0\n",
        "  return 1\n",
        "\n",
        "for col in colnames:\n",
        "  global colname\n",
        "\n",
        "  colname = col\n",
        "  df[colname] = df.apply(zero_one, axis=1)"
      ],
      "metadata": {
        "id": "jEcbAvEyM0lk"
      },
      "execution_count": 19,
      "outputs": []
    },
    {
      "cell_type": "markdown",
      "source": [
        "#### Variabel *emp_length*"
      ],
      "metadata": {
        "id": "TbGhZCm0CfdJ"
      }
    },
    {
      "cell_type": "markdown",
      "source": [
        "Sebelum diproses, nilai null pada dataset akan dihapus terlebih dahulu."
      ],
      "metadata": {
        "id": "AdGcDaYoCjn8"
      }
    },
    {
      "cell_type": "code",
      "source": [
        "df.dropna(inplace=True)\n",
        "\n",
        "def get_digits(text):\n",
        "  try:\n",
        "    if text['emp_length'] != '< 1 year':\n",
        "      return int(re.findall(r'\\b\\d+\\b', text['emp_length'])[0])\n",
        "    else:\n",
        "      return 0\n",
        "  except TypeError:\n",
        "    return text['emp_length']\n",
        "\n",
        "df['emp_length'] = df.apply(get_digits, axis=1)"
      ],
      "metadata": {
        "id": "fh_-jyqOCiwb"
      },
      "execution_count": 20,
      "outputs": []
    },
    {
      "cell_type": "code",
      "source": [
        "understanding_df = info(df)\n",
        "understanding_df[lambda x: x['tipe_data'] == 'object']"
      ],
      "metadata": {
        "colab": {
          "base_uri": "https://localhost:8080/",
          "height": 238
        },
        "id": "BTNg2yk2E-RF",
        "outputId": "752d88da-1b37-4e2d-9082-8bc8737a12c3"
      },
      "execution_count": 21,
      "outputs": [
        {
          "output_type": "execute_result",
          "data": {
            "text/plain": [
              "             nama_kolom tipe_data  null  nilai_unik  \\\n",
              "6                 grade    object     0           7   \n",
              "7             sub_grade    object     0          35   \n",
              "9        home_ownership    object     0           6   \n",
              "11  verification_status    object     0           3   \n",
              "14              purpose    object     0          13   \n",
              "15           addr_state    object     0          49   \n",
              "\n",
              "                                         sampel_nilai  \n",
              "6                               [B, A, E, C, D, F, G]  \n",
              "7            [B5, B4, A3, B2, E4, C2, B3, C1, B1, D3]  \n",
              "9             [RENT, MORTGAGE, OWN, NONE, OTHER, ANY]  \n",
              "11          [Source Verified, Verified, Not Verified]  \n",
              "14  [debt_consolidation, credit_card, home_improve...  \n",
              "15           [NM, FL, CA, MI, CO, NY, TX, PA, OH, GA]  "
            ],
            "text/html": [
              "\n",
              "  <div id=\"df-19ac86d2-9642-42f9-952d-b89e084ec934\">\n",
              "    <div class=\"colab-df-container\">\n",
              "      <div>\n",
              "<style scoped>\n",
              "    .dataframe tbody tr th:only-of-type {\n",
              "        vertical-align: middle;\n",
              "    }\n",
              "\n",
              "    .dataframe tbody tr th {\n",
              "        vertical-align: top;\n",
              "    }\n",
              "\n",
              "    .dataframe thead th {\n",
              "        text-align: right;\n",
              "    }\n",
              "</style>\n",
              "<table border=\"1\" class=\"dataframe\">\n",
              "  <thead>\n",
              "    <tr style=\"text-align: right;\">\n",
              "      <th></th>\n",
              "      <th>nama_kolom</th>\n",
              "      <th>tipe_data</th>\n",
              "      <th>null</th>\n",
              "      <th>nilai_unik</th>\n",
              "      <th>sampel_nilai</th>\n",
              "    </tr>\n",
              "  </thead>\n",
              "  <tbody>\n",
              "    <tr>\n",
              "      <th>6</th>\n",
              "      <td>grade</td>\n",
              "      <td>object</td>\n",
              "      <td>0</td>\n",
              "      <td>7</td>\n",
              "      <td>[B, A, E, C, D, F, G]</td>\n",
              "    </tr>\n",
              "    <tr>\n",
              "      <th>7</th>\n",
              "      <td>sub_grade</td>\n",
              "      <td>object</td>\n",
              "      <td>0</td>\n",
              "      <td>35</td>\n",
              "      <td>[B5, B4, A3, B2, E4, C2, B3, C1, B1, D3]</td>\n",
              "    </tr>\n",
              "    <tr>\n",
              "      <th>9</th>\n",
              "      <td>home_ownership</td>\n",
              "      <td>object</td>\n",
              "      <td>0</td>\n",
              "      <td>6</td>\n",
              "      <td>[RENT, MORTGAGE, OWN, NONE, OTHER, ANY]</td>\n",
              "    </tr>\n",
              "    <tr>\n",
              "      <th>11</th>\n",
              "      <td>verification_status</td>\n",
              "      <td>object</td>\n",
              "      <td>0</td>\n",
              "      <td>3</td>\n",
              "      <td>[Source Verified, Verified, Not Verified]</td>\n",
              "    </tr>\n",
              "    <tr>\n",
              "      <th>14</th>\n",
              "      <td>purpose</td>\n",
              "      <td>object</td>\n",
              "      <td>0</td>\n",
              "      <td>13</td>\n",
              "      <td>[debt_consolidation, credit_card, home_improve...</td>\n",
              "    </tr>\n",
              "    <tr>\n",
              "      <th>15</th>\n",
              "      <td>addr_state</td>\n",
              "      <td>object</td>\n",
              "      <td>0</td>\n",
              "      <td>49</td>\n",
              "      <td>[NM, FL, CA, MI, CO, NY, TX, PA, OH, GA]</td>\n",
              "    </tr>\n",
              "  </tbody>\n",
              "</table>\n",
              "</div>\n",
              "      <button class=\"colab-df-convert\" onclick=\"convertToInteractive('df-19ac86d2-9642-42f9-952d-b89e084ec934')\"\n",
              "              title=\"Convert this dataframe to an interactive table.\"\n",
              "              style=\"display:none;\">\n",
              "        \n",
              "  <svg xmlns=\"http://www.w3.org/2000/svg\" height=\"24px\"viewBox=\"0 0 24 24\"\n",
              "       width=\"24px\">\n",
              "    <path d=\"M0 0h24v24H0V0z\" fill=\"none\"/>\n",
              "    <path d=\"M18.56 5.44l.94 2.06.94-2.06 2.06-.94-2.06-.94-.94-2.06-.94 2.06-2.06.94zm-11 1L8.5 8.5l.94-2.06 2.06-.94-2.06-.94L8.5 2.5l-.94 2.06-2.06.94zm10 10l.94 2.06.94-2.06 2.06-.94-2.06-.94-.94-2.06-.94 2.06-2.06.94z\"/><path d=\"M17.41 7.96l-1.37-1.37c-.4-.4-.92-.59-1.43-.59-.52 0-1.04.2-1.43.59L10.3 9.45l-7.72 7.72c-.78.78-.78 2.05 0 2.83L4 21.41c.39.39.9.59 1.41.59.51 0 1.02-.2 1.41-.59l7.78-7.78 2.81-2.81c.8-.78.8-2.07 0-2.86zM5.41 20L4 18.59l7.72-7.72 1.47 1.35L5.41 20z\"/>\n",
              "  </svg>\n",
              "      </button>\n",
              "      \n",
              "  <style>\n",
              "    .colab-df-container {\n",
              "      display:flex;\n",
              "      flex-wrap:wrap;\n",
              "      gap: 12px;\n",
              "    }\n",
              "\n",
              "    .colab-df-convert {\n",
              "      background-color: #E8F0FE;\n",
              "      border: none;\n",
              "      border-radius: 50%;\n",
              "      cursor: pointer;\n",
              "      display: none;\n",
              "      fill: #1967D2;\n",
              "      height: 32px;\n",
              "      padding: 0 0 0 0;\n",
              "      width: 32px;\n",
              "    }\n",
              "\n",
              "    .colab-df-convert:hover {\n",
              "      background-color: #E2EBFA;\n",
              "      box-shadow: 0px 1px 2px rgba(60, 64, 67, 0.3), 0px 1px 3px 1px rgba(60, 64, 67, 0.15);\n",
              "      fill: #174EA6;\n",
              "    }\n",
              "\n",
              "    [theme=dark] .colab-df-convert {\n",
              "      background-color: #3B4455;\n",
              "      fill: #D2E3FC;\n",
              "    }\n",
              "\n",
              "    [theme=dark] .colab-df-convert:hover {\n",
              "      background-color: #434B5C;\n",
              "      box-shadow: 0px 1px 3px 1px rgba(0, 0, 0, 0.15);\n",
              "      filter: drop-shadow(0px 1px 2px rgba(0, 0, 0, 0.3));\n",
              "      fill: #FFFFFF;\n",
              "    }\n",
              "  </style>\n",
              "\n",
              "      <script>\n",
              "        const buttonEl =\n",
              "          document.querySelector('#df-19ac86d2-9642-42f9-952d-b89e084ec934 button.colab-df-convert');\n",
              "        buttonEl.style.display =\n",
              "          google.colab.kernel.accessAllowed ? 'block' : 'none';\n",
              "\n",
              "        async function convertToInteractive(key) {\n",
              "          const element = document.querySelector('#df-19ac86d2-9642-42f9-952d-b89e084ec934');\n",
              "          const dataTable =\n",
              "            await google.colab.kernel.invokeFunction('convertToInteractive',\n",
              "                                                     [key], {});\n",
              "          if (!dataTable) return;\n",
              "\n",
              "          const docLinkHtml = 'Like what you see? Visit the ' +\n",
              "            '<a target=\"_blank\" href=https://colab.research.google.com/notebooks/data_table.ipynb>data table notebook</a>'\n",
              "            + ' to learn more about interactive tables.';\n",
              "          element.innerHTML = '';\n",
              "          dataTable['output_type'] = 'display_data';\n",
              "          await google.colab.output.renderOutput(dataTable, element);\n",
              "          const docLink = document.createElement('div');\n",
              "          docLink.innerHTML = docLinkHtml;\n",
              "          element.appendChild(docLink);\n",
              "        }\n",
              "      </script>\n",
              "    </div>\n",
              "  </div>\n",
              "  "
            ]
          },
          "metadata": {},
          "execution_count": 21
        }
      ]
    },
    {
      "cell_type": "markdown",
      "source": [
        "### Eksplorasi data numerik"
      ],
      "metadata": {
        "id": "6UrJzbNtGWtE"
      }
    },
    {
      "cell_type": "code",
      "source": [
        "understanding_df[lambda x: x['tipe_data'] != 'object']"
      ],
      "metadata": {
        "colab": {
          "base_uri": "https://localhost:8080/",
          "height": 1000
        },
        "id": "45JE49H-HF-5",
        "outputId": "21653bcf-b99d-4c5f-d8a7-75afc3df35f1"
      },
      "execution_count": 22,
      "outputs": [
        {
          "output_type": "execute_result",
          "data": {
            "text/plain": [
              "                    nama_kolom tipe_data  null  nilai_unik  \\\n",
              "0                    loan_amnt     int64     0        1280   \n",
              "1                  funded_amnt     int64     0        1280   \n",
              "2              funded_amnt_inv   float64     0        1375   \n",
              "3                         term     int64     0           2   \n",
              "4                     int_rate   float64     0         145   \n",
              "5                  installment   float64     0       32494   \n",
              "8                   emp_length     int64     0          11   \n",
              "10                  annual_inc   float64     0       12508   \n",
              "12                 loan_status     int64     0           2   \n",
              "13                  pymnt_plan     int64     0           2   \n",
              "16                         dti   float64     0        3901   \n",
              "17                 delinq_2yrs   float64     0          23   \n",
              "18              inq_last_6mths   float64     0           8   \n",
              "19                    open_acc   float64     0          56   \n",
              "20                     pub_rec   float64     0          11   \n",
              "21                   revol_bal     int64     0       42054   \n",
              "22                  revol_util   float64     0        1107   \n",
              "23                   total_acc   float64     0         101   \n",
              "24         initial_list_status     int64     0           2   \n",
              "25                   out_prncp   float64     0       10720   \n",
              "26               out_prncp_inv   float64     0       10766   \n",
              "27                 total_pymnt   float64     0      159657   \n",
              "28             total_pymnt_inv   float64     0      157246   \n",
              "29             total_rec_prncp   float64     0       40848   \n",
              "30               total_rec_int   float64     0      134129   \n",
              "31          total_rec_late_fee   float64     0        2428   \n",
              "32                  recoveries   float64     0       14913   \n",
              "33     collection_recovery_fee   float64     0       14819   \n",
              "34             last_pymnt_amnt   float64     0      133005   \n",
              "35  collections_12_mths_ex_med   float64     0           6   \n",
              "36                 policy_code     int64     0           1   \n",
              "37              acc_now_delinq   float64     0           6   \n",
              "38                tot_coll_amt   float64     0        3630   \n",
              "39                 tot_cur_bal   float64     0      123234   \n",
              "40            total_rev_hi_lim   float64     0        9006   \n",
              "41                  risk_score     int64     0           2   \n",
              "\n",
              "                                         sampel_nilai  \n",
              "0   [12000, 3000, 28000, 24000, 8000, 11500, 15000...  \n",
              "1   [12000, 3000, 28000, 24000, 8000, 11500, 15000...  \n",
              "2   [12000.0, 3000.0, 28000.0, 24000.0, 8000.0, 11...  \n",
              "3                                              [0, 1]  \n",
              "4   [13.53, 12.85, 7.62, 10.99, 22.9, 14.47, 11.99...  \n",
              "5   [407.4, 100.87, 872.52, 814.8, 261.88, 323.54,...  \n",
              "8                     [10, 5, 2, 4, 9, 0, 8, 1, 3, 7]  \n",
              "10  [40000.0, 25000.0, 325000.0, 100000.0, 33000.0...  \n",
              "12                                             [0, 1]  \n",
              "13                                             [0, 1]  \n",
              "16  [16.94, 24.68, 18.55, 22.18, 15.75, 27.06, 6.1...  \n",
              "17  [0.0, 1.0, 2.0, 3.0, 7.0, 4.0, 5.0, 6.0, 15.0,...  \n",
              "18           [0.0, 1.0, 2.0, 4.0, 3.0, 5.0, 6.0, 7.0]  \n",
              "19  [7.0, 5.0, 15.0, 14.0, 9.0, 12.0, 16.0, 3.0, 2...  \n",
              "20  [2.0, 0.0, 1.0, 3.0, 4.0, 5.0, 6.0, 9.0, 8.0, ...  \n",
              "21  [5572, 2875, 29581, 21617, 7203, 9996, 5749, 4...  \n",
              "22  [68.8, 54.2, 54.6, 76.7, 34.6, 70.9, 22.3, 16....  \n",
              "23  [32.0, 26.0, 31.0, 39.0, 16.0, 17.0, 8.0, 41.0...  \n",
              "24                                             [1, 0]  \n",
              "25  [0.0, 4145.19, 8529.62, 6306.22, 12246.26, 990...  \n",
              "26  [0.0, 4145.19, 8529.62, 6306.22, 12246.26, 989...  \n",
              "27  [13359.77, 3181.532981, 29150.98, 28652.21, 49...  \n",
              "28  [13359.77, 3181.53, 29150.98, 28652.21, 4990.0...  \n",
              "29  [11999.99, 3000.0, 28000.0, 24000.0, 3854.81, ...  \n",
              "30  [1359.78, 181.53, 1150.98, 4652.21, 1120.22, 4...  \n",
              "31  [0.0, 15.0, 24.11, 18.81, 38.18, 22.53, 16.06,...  \n",
              "32  [0.0, 2760.67, 2519.14, 620.96, 1960.5, 3247.0...  \n",
              "33  [0.0, 27.6067, 453.4452, 111.7728, 19.605, 584...  \n",
              "34  [119.17, 2677.23, 23915.86, 10726.61, 276.88, ...  \n",
              "35                     [0.0, 1.0, 2.0, 4.0, 3.0, 5.0]  \n",
              "36                                                [1]  \n",
              "37                     [0.0, 2.0, 1.0, 3.0, 5.0, 4.0]  \n",
              "38  [15386.0, 154.0, 0.0, 539.0, 92.0, 126.0, 4009...  \n",
              "39  [13605.0, 19530.0, 799592.0, 199834.0, 15949.0...  \n",
              "40  [8100.0, 5300.0, 54200.0, 28200.0, 20800.0, 14...  \n",
              "41                                             [1, 0]  "
            ],
            "text/html": [
              "\n",
              "  <div id=\"df-25cc09a8-0af9-4830-9c88-9be3d99dbcd6\">\n",
              "    <div class=\"colab-df-container\">\n",
              "      <div>\n",
              "<style scoped>\n",
              "    .dataframe tbody tr th:only-of-type {\n",
              "        vertical-align: middle;\n",
              "    }\n",
              "\n",
              "    .dataframe tbody tr th {\n",
              "        vertical-align: top;\n",
              "    }\n",
              "\n",
              "    .dataframe thead th {\n",
              "        text-align: right;\n",
              "    }\n",
              "</style>\n",
              "<table border=\"1\" class=\"dataframe\">\n",
              "  <thead>\n",
              "    <tr style=\"text-align: right;\">\n",
              "      <th></th>\n",
              "      <th>nama_kolom</th>\n",
              "      <th>tipe_data</th>\n",
              "      <th>null</th>\n",
              "      <th>nilai_unik</th>\n",
              "      <th>sampel_nilai</th>\n",
              "    </tr>\n",
              "  </thead>\n",
              "  <tbody>\n",
              "    <tr>\n",
              "      <th>0</th>\n",
              "      <td>loan_amnt</td>\n",
              "      <td>int64</td>\n",
              "      <td>0</td>\n",
              "      <td>1280</td>\n",
              "      <td>[12000, 3000, 28000, 24000, 8000, 11500, 15000...</td>\n",
              "    </tr>\n",
              "    <tr>\n",
              "      <th>1</th>\n",
              "      <td>funded_amnt</td>\n",
              "      <td>int64</td>\n",
              "      <td>0</td>\n",
              "      <td>1280</td>\n",
              "      <td>[12000, 3000, 28000, 24000, 8000, 11500, 15000...</td>\n",
              "    </tr>\n",
              "    <tr>\n",
              "      <th>2</th>\n",
              "      <td>funded_amnt_inv</td>\n",
              "      <td>float64</td>\n",
              "      <td>0</td>\n",
              "      <td>1375</td>\n",
              "      <td>[12000.0, 3000.0, 28000.0, 24000.0, 8000.0, 11...</td>\n",
              "    </tr>\n",
              "    <tr>\n",
              "      <th>3</th>\n",
              "      <td>term</td>\n",
              "      <td>int64</td>\n",
              "      <td>0</td>\n",
              "      <td>2</td>\n",
              "      <td>[0, 1]</td>\n",
              "    </tr>\n",
              "    <tr>\n",
              "      <th>4</th>\n",
              "      <td>int_rate</td>\n",
              "      <td>float64</td>\n",
              "      <td>0</td>\n",
              "      <td>145</td>\n",
              "      <td>[13.53, 12.85, 7.62, 10.99, 22.9, 14.47, 11.99...</td>\n",
              "    </tr>\n",
              "    <tr>\n",
              "      <th>5</th>\n",
              "      <td>installment</td>\n",
              "      <td>float64</td>\n",
              "      <td>0</td>\n",
              "      <td>32494</td>\n",
              "      <td>[407.4, 100.87, 872.52, 814.8, 261.88, 323.54,...</td>\n",
              "    </tr>\n",
              "    <tr>\n",
              "      <th>8</th>\n",
              "      <td>emp_length</td>\n",
              "      <td>int64</td>\n",
              "      <td>0</td>\n",
              "      <td>11</td>\n",
              "      <td>[10, 5, 2, 4, 9, 0, 8, 1, 3, 7]</td>\n",
              "    </tr>\n",
              "    <tr>\n",
              "      <th>10</th>\n",
              "      <td>annual_inc</td>\n",
              "      <td>float64</td>\n",
              "      <td>0</td>\n",
              "      <td>12508</td>\n",
              "      <td>[40000.0, 25000.0, 325000.0, 100000.0, 33000.0...</td>\n",
              "    </tr>\n",
              "    <tr>\n",
              "      <th>12</th>\n",
              "      <td>loan_status</td>\n",
              "      <td>int64</td>\n",
              "      <td>0</td>\n",
              "      <td>2</td>\n",
              "      <td>[0, 1]</td>\n",
              "    </tr>\n",
              "    <tr>\n",
              "      <th>13</th>\n",
              "      <td>pymnt_plan</td>\n",
              "      <td>int64</td>\n",
              "      <td>0</td>\n",
              "      <td>2</td>\n",
              "      <td>[0, 1]</td>\n",
              "    </tr>\n",
              "    <tr>\n",
              "      <th>16</th>\n",
              "      <td>dti</td>\n",
              "      <td>float64</td>\n",
              "      <td>0</td>\n",
              "      <td>3901</td>\n",
              "      <td>[16.94, 24.68, 18.55, 22.18, 15.75, 27.06, 6.1...</td>\n",
              "    </tr>\n",
              "    <tr>\n",
              "      <th>17</th>\n",
              "      <td>delinq_2yrs</td>\n",
              "      <td>float64</td>\n",
              "      <td>0</td>\n",
              "      <td>23</td>\n",
              "      <td>[0.0, 1.0, 2.0, 3.0, 7.0, 4.0, 5.0, 6.0, 15.0,...</td>\n",
              "    </tr>\n",
              "    <tr>\n",
              "      <th>18</th>\n",
              "      <td>inq_last_6mths</td>\n",
              "      <td>float64</td>\n",
              "      <td>0</td>\n",
              "      <td>8</td>\n",
              "      <td>[0.0, 1.0, 2.0, 4.0, 3.0, 5.0, 6.0, 7.0]</td>\n",
              "    </tr>\n",
              "    <tr>\n",
              "      <th>19</th>\n",
              "      <td>open_acc</td>\n",
              "      <td>float64</td>\n",
              "      <td>0</td>\n",
              "      <td>56</td>\n",
              "      <td>[7.0, 5.0, 15.0, 14.0, 9.0, 12.0, 16.0, 3.0, 2...</td>\n",
              "    </tr>\n",
              "    <tr>\n",
              "      <th>20</th>\n",
              "      <td>pub_rec</td>\n",
              "      <td>float64</td>\n",
              "      <td>0</td>\n",
              "      <td>11</td>\n",
              "      <td>[2.0, 0.0, 1.0, 3.0, 4.0, 5.0, 6.0, 9.0, 8.0, ...</td>\n",
              "    </tr>\n",
              "    <tr>\n",
              "      <th>21</th>\n",
              "      <td>revol_bal</td>\n",
              "      <td>int64</td>\n",
              "      <td>0</td>\n",
              "      <td>42054</td>\n",
              "      <td>[5572, 2875, 29581, 21617, 7203, 9996, 5749, 4...</td>\n",
              "    </tr>\n",
              "    <tr>\n",
              "      <th>22</th>\n",
              "      <td>revol_util</td>\n",
              "      <td>float64</td>\n",
              "      <td>0</td>\n",
              "      <td>1107</td>\n",
              "      <td>[68.8, 54.2, 54.6, 76.7, 34.6, 70.9, 22.3, 16....</td>\n",
              "    </tr>\n",
              "    <tr>\n",
              "      <th>23</th>\n",
              "      <td>total_acc</td>\n",
              "      <td>float64</td>\n",
              "      <td>0</td>\n",
              "      <td>101</td>\n",
              "      <td>[32.0, 26.0, 31.0, 39.0, 16.0, 17.0, 8.0, 41.0...</td>\n",
              "    </tr>\n",
              "    <tr>\n",
              "      <th>24</th>\n",
              "      <td>initial_list_status</td>\n",
              "      <td>int64</td>\n",
              "      <td>0</td>\n",
              "      <td>2</td>\n",
              "      <td>[1, 0]</td>\n",
              "    </tr>\n",
              "    <tr>\n",
              "      <th>25</th>\n",
              "      <td>out_prncp</td>\n",
              "      <td>float64</td>\n",
              "      <td>0</td>\n",
              "      <td>10720</td>\n",
              "      <td>[0.0, 4145.19, 8529.62, 6306.22, 12246.26, 990...</td>\n",
              "    </tr>\n",
              "    <tr>\n",
              "      <th>26</th>\n",
              "      <td>out_prncp_inv</td>\n",
              "      <td>float64</td>\n",
              "      <td>0</td>\n",
              "      <td>10766</td>\n",
              "      <td>[0.0, 4145.19, 8529.62, 6306.22, 12246.26, 989...</td>\n",
              "    </tr>\n",
              "    <tr>\n",
              "      <th>27</th>\n",
              "      <td>total_pymnt</td>\n",
              "      <td>float64</td>\n",
              "      <td>0</td>\n",
              "      <td>159657</td>\n",
              "      <td>[13359.77, 3181.532981, 29150.98, 28652.21, 49...</td>\n",
              "    </tr>\n",
              "    <tr>\n",
              "      <th>28</th>\n",
              "      <td>total_pymnt_inv</td>\n",
              "      <td>float64</td>\n",
              "      <td>0</td>\n",
              "      <td>157246</td>\n",
              "      <td>[13359.77, 3181.53, 29150.98, 28652.21, 4990.0...</td>\n",
              "    </tr>\n",
              "    <tr>\n",
              "      <th>29</th>\n",
              "      <td>total_rec_prncp</td>\n",
              "      <td>float64</td>\n",
              "      <td>0</td>\n",
              "      <td>40848</td>\n",
              "      <td>[11999.99, 3000.0, 28000.0, 24000.0, 3854.81, ...</td>\n",
              "    </tr>\n",
              "    <tr>\n",
              "      <th>30</th>\n",
              "      <td>total_rec_int</td>\n",
              "      <td>float64</td>\n",
              "      <td>0</td>\n",
              "      <td>134129</td>\n",
              "      <td>[1359.78, 181.53, 1150.98, 4652.21, 1120.22, 4...</td>\n",
              "    </tr>\n",
              "    <tr>\n",
              "      <th>31</th>\n",
              "      <td>total_rec_late_fee</td>\n",
              "      <td>float64</td>\n",
              "      <td>0</td>\n",
              "      <td>2428</td>\n",
              "      <td>[0.0, 15.0, 24.11, 18.81, 38.18, 22.53, 16.06,...</td>\n",
              "    </tr>\n",
              "    <tr>\n",
              "      <th>32</th>\n",
              "      <td>recoveries</td>\n",
              "      <td>float64</td>\n",
              "      <td>0</td>\n",
              "      <td>14913</td>\n",
              "      <td>[0.0, 2760.67, 2519.14, 620.96, 1960.5, 3247.0...</td>\n",
              "    </tr>\n",
              "    <tr>\n",
              "      <th>33</th>\n",
              "      <td>collection_recovery_fee</td>\n",
              "      <td>float64</td>\n",
              "      <td>0</td>\n",
              "      <td>14819</td>\n",
              "      <td>[0.0, 27.6067, 453.4452, 111.7728, 19.605, 584...</td>\n",
              "    </tr>\n",
              "    <tr>\n",
              "      <th>34</th>\n",
              "      <td>last_pymnt_amnt</td>\n",
              "      <td>float64</td>\n",
              "      <td>0</td>\n",
              "      <td>133005</td>\n",
              "      <td>[119.17, 2677.23, 23915.86, 10726.61, 276.88, ...</td>\n",
              "    </tr>\n",
              "    <tr>\n",
              "      <th>35</th>\n",
              "      <td>collections_12_mths_ex_med</td>\n",
              "      <td>float64</td>\n",
              "      <td>0</td>\n",
              "      <td>6</td>\n",
              "      <td>[0.0, 1.0, 2.0, 4.0, 3.0, 5.0]</td>\n",
              "    </tr>\n",
              "    <tr>\n",
              "      <th>36</th>\n",
              "      <td>policy_code</td>\n",
              "      <td>int64</td>\n",
              "      <td>0</td>\n",
              "      <td>1</td>\n",
              "      <td>[1]</td>\n",
              "    </tr>\n",
              "    <tr>\n",
              "      <th>37</th>\n",
              "      <td>acc_now_delinq</td>\n",
              "      <td>float64</td>\n",
              "      <td>0</td>\n",
              "      <td>6</td>\n",
              "      <td>[0.0, 2.0, 1.0, 3.0, 5.0, 4.0]</td>\n",
              "    </tr>\n",
              "    <tr>\n",
              "      <th>38</th>\n",
              "      <td>tot_coll_amt</td>\n",
              "      <td>float64</td>\n",
              "      <td>0</td>\n",
              "      <td>3630</td>\n",
              "      <td>[15386.0, 154.0, 0.0, 539.0, 92.0, 126.0, 4009...</td>\n",
              "    </tr>\n",
              "    <tr>\n",
              "      <th>39</th>\n",
              "      <td>tot_cur_bal</td>\n",
              "      <td>float64</td>\n",
              "      <td>0</td>\n",
              "      <td>123234</td>\n",
              "      <td>[13605.0, 19530.0, 799592.0, 199834.0, 15949.0...</td>\n",
              "    </tr>\n",
              "    <tr>\n",
              "      <th>40</th>\n",
              "      <td>total_rev_hi_lim</td>\n",
              "      <td>float64</td>\n",
              "      <td>0</td>\n",
              "      <td>9006</td>\n",
              "      <td>[8100.0, 5300.0, 54200.0, 28200.0, 20800.0, 14...</td>\n",
              "    </tr>\n",
              "    <tr>\n",
              "      <th>41</th>\n",
              "      <td>risk_score</td>\n",
              "      <td>int64</td>\n",
              "      <td>0</td>\n",
              "      <td>2</td>\n",
              "      <td>[1, 0]</td>\n",
              "    </tr>\n",
              "  </tbody>\n",
              "</table>\n",
              "</div>\n",
              "      <button class=\"colab-df-convert\" onclick=\"convertToInteractive('df-25cc09a8-0af9-4830-9c88-9be3d99dbcd6')\"\n",
              "              title=\"Convert this dataframe to an interactive table.\"\n",
              "              style=\"display:none;\">\n",
              "        \n",
              "  <svg xmlns=\"http://www.w3.org/2000/svg\" height=\"24px\"viewBox=\"0 0 24 24\"\n",
              "       width=\"24px\">\n",
              "    <path d=\"M0 0h24v24H0V0z\" fill=\"none\"/>\n",
              "    <path d=\"M18.56 5.44l.94 2.06.94-2.06 2.06-.94-2.06-.94-.94-2.06-.94 2.06-2.06.94zm-11 1L8.5 8.5l.94-2.06 2.06-.94-2.06-.94L8.5 2.5l-.94 2.06-2.06.94zm10 10l.94 2.06.94-2.06 2.06-.94-2.06-.94-.94-2.06-.94 2.06-2.06.94z\"/><path d=\"M17.41 7.96l-1.37-1.37c-.4-.4-.92-.59-1.43-.59-.52 0-1.04.2-1.43.59L10.3 9.45l-7.72 7.72c-.78.78-.78 2.05 0 2.83L4 21.41c.39.39.9.59 1.41.59.51 0 1.02-.2 1.41-.59l7.78-7.78 2.81-2.81c.8-.78.8-2.07 0-2.86zM5.41 20L4 18.59l7.72-7.72 1.47 1.35L5.41 20z\"/>\n",
              "  </svg>\n",
              "      </button>\n",
              "      \n",
              "  <style>\n",
              "    .colab-df-container {\n",
              "      display:flex;\n",
              "      flex-wrap:wrap;\n",
              "      gap: 12px;\n",
              "    }\n",
              "\n",
              "    .colab-df-convert {\n",
              "      background-color: #E8F0FE;\n",
              "      border: none;\n",
              "      border-radius: 50%;\n",
              "      cursor: pointer;\n",
              "      display: none;\n",
              "      fill: #1967D2;\n",
              "      height: 32px;\n",
              "      padding: 0 0 0 0;\n",
              "      width: 32px;\n",
              "    }\n",
              "\n",
              "    .colab-df-convert:hover {\n",
              "      background-color: #E2EBFA;\n",
              "      box-shadow: 0px 1px 2px rgba(60, 64, 67, 0.3), 0px 1px 3px 1px rgba(60, 64, 67, 0.15);\n",
              "      fill: #174EA6;\n",
              "    }\n",
              "\n",
              "    [theme=dark] .colab-df-convert {\n",
              "      background-color: #3B4455;\n",
              "      fill: #D2E3FC;\n",
              "    }\n",
              "\n",
              "    [theme=dark] .colab-df-convert:hover {\n",
              "      background-color: #434B5C;\n",
              "      box-shadow: 0px 1px 3px 1px rgba(0, 0, 0, 0.15);\n",
              "      filter: drop-shadow(0px 1px 2px rgba(0, 0, 0, 0.3));\n",
              "      fill: #FFFFFF;\n",
              "    }\n",
              "  </style>\n",
              "\n",
              "      <script>\n",
              "        const buttonEl =\n",
              "          document.querySelector('#df-25cc09a8-0af9-4830-9c88-9be3d99dbcd6 button.colab-df-convert');\n",
              "        buttonEl.style.display =\n",
              "          google.colab.kernel.accessAllowed ? 'block' : 'none';\n",
              "\n",
              "        async function convertToInteractive(key) {\n",
              "          const element = document.querySelector('#df-25cc09a8-0af9-4830-9c88-9be3d99dbcd6');\n",
              "          const dataTable =\n",
              "            await google.colab.kernel.invokeFunction('convertToInteractive',\n",
              "                                                     [key], {});\n",
              "          if (!dataTable) return;\n",
              "\n",
              "          const docLinkHtml = 'Like what you see? Visit the ' +\n",
              "            '<a target=\"_blank\" href=https://colab.research.google.com/notebooks/data_table.ipynb>data table notebook</a>'\n",
              "            + ' to learn more about interactive tables.';\n",
              "          element.innerHTML = '';\n",
              "          dataTable['output_type'] = 'display_data';\n",
              "          await google.colab.output.renderOutput(dataTable, element);\n",
              "          const docLink = document.createElement('div');\n",
              "          docLink.innerHTML = docLinkHtml;\n",
              "          element.appendChild(docLink);\n",
              "        }\n",
              "      </script>\n",
              "    </div>\n",
              "  </div>\n",
              "  "
            ]
          },
          "metadata": {},
          "execution_count": 22
        }
      ]
    },
    {
      "cell_type": "markdown",
      "source": [
        "#### Outlier"
      ],
      "metadata": {
        "id": "TUZ_V28ISMtq"
      }
    },
    {
      "cell_type": "code",
      "source": [
        "df_nob = df.select_dtypes(exclude=object)\n",
        "df_ob = df.select_dtypes(include=object)"
      ],
      "metadata": {
        "id": "RYX1PvTvWDQ8"
      },
      "execution_count": 23,
      "outputs": []
    },
    {
      "cell_type": "markdown",
      "source": [
        "Deteksi outlier akan dilakukan dengan menggunakan metode Z-Score.\n",
        "\n",
        "Kemudian, outliers akan dihapus."
      ],
      "metadata": {
        "id": "VjzQlAl_Ue7V"
      }
    },
    {
      "cell_type": "code",
      "source": [
        "# Mendapatkan Z-score\n",
        "mean = df_nob.mean()\n",
        "std = df_nob.std()\n",
        "z = (df_nob - mean) / std\n",
        "\n",
        "# Mendeteksi outlier\n",
        "outliers = df_nob[abs(z) > 3]\n",
        "\n",
        "# Hapus outliers\n",
        "df = df[~(outliers > 3).any(axis=1)]\n",
        "df.shape"
      ],
      "metadata": {
        "id": "eC1HX_7fUBEz",
        "colab": {
          "base_uri": "https://localhost:8080/"
        },
        "outputId": "4b5759a0-502e-4654-a9b4-ab2f083becc0"
      },
      "execution_count": 24,
      "outputs": [
        {
          "output_type": "execute_result",
          "data": {
            "text/plain": [
              "(140627, 42)"
            ]
          },
          "metadata": {},
          "execution_count": 24
        }
      ]
    },
    {
      "cell_type": "markdown",
      "source": [
        "#### Korelasi"
      ],
      "metadata": {
        "id": "sQrSv8BPTLHG"
      }
    },
    {
      "cell_type": "code",
      "source": [
        "df.corr()['loan_status'].abs().sort_values(ascending=False)"
      ],
      "metadata": {
        "colab": {
          "base_uri": "https://localhost:8080/"
        },
        "id": "_NBO0TvgGYVT",
        "outputId": "c4c7335a-c739-4516-c899-d30416171417"
      },
      "execution_count": 25,
      "outputs": [
        {
          "output_type": "execute_result",
          "data": {
            "text/plain": [
              "loan_status                   1.000000\n",
              "total_rec_prncp               0.513531\n",
              "last_pymnt_amnt               0.472689\n",
              "recoveries                    0.459544\n",
              "total_pymnt                   0.442995\n",
              "total_pymnt_inv               0.442970\n",
              "out_prncp_inv                 0.357341\n",
              "out_prncp                     0.357334\n",
              "collection_recovery_fee       0.317575\n",
              "int_rate                      0.208467\n",
              "total_rec_late_fee            0.151989\n",
              "annual_inc                    0.137896\n",
              "dti                           0.117969\n",
              "tot_cur_bal                   0.097862\n",
              "total_rev_hi_lim              0.087019\n",
              "term                          0.082277\n",
              "revol_util                    0.078877\n",
              "total_acc                     0.063465\n",
              "installment                   0.044718\n",
              "loan_amnt                     0.041665\n",
              "funded_amnt                   0.041664\n",
              "risk_score                    0.041654\n",
              "funded_amnt_inv               0.041569\n",
              "inq_last_6mths                0.038598\n",
              "revol_bal                     0.032187\n",
              "emp_length                    0.025155\n",
              "delinq_2yrs                   0.013506\n",
              "initial_list_status           0.008602\n",
              "collections_12_mths_ex_med    0.005728\n",
              "open_acc                      0.004082\n",
              "acc_now_delinq                0.003809\n",
              "total_rec_int                 0.003708\n",
              "tot_coll_amt                  0.002471\n",
              "pub_rec                       0.000823\n",
              "pymnt_plan                         NaN\n",
              "policy_code                        NaN\n",
              "Name: loan_status, dtype: float64"
            ]
          },
          "metadata": {},
          "execution_count": 25
        }
      ]
    },
    {
      "cell_type": "markdown",
      "source": [
        "Kolom *pymnt_plan* dan *policy_code* memiliki nilai korelasi NaN. Hal ini disebabkan karena kedua kolom tersebut hanya memiliki satu nilai unik. Oleh karena itu, kedua kolom tersebut akan dihapus."
      ],
      "metadata": {
        "id": "W2nhRNs9trty"
      }
    },
    {
      "cell_type": "code",
      "source": [
        "colnames = ['pymnt_plan', 'policy_code']\n",
        "\n",
        "for col in colnames:\n",
        "  df.drop(col, axis=1, inplace=True)\n",
        "  unused_col.add(col)"
      ],
      "metadata": {
        "id": "q-5U04Lqt7qP"
      },
      "execution_count": 26,
      "outputs": []
    },
    {
      "cell_type": "code",
      "source": [
        "corr = df.corr().abs()\n",
        "mask = np.tril(corr)\n",
        "mask = ~((abs(mask) >= 0.15) & (abs(mask) <= 0.99))\n",
        "\n",
        "plt.figure(figsize=(18,18))\n",
        "sns.heatmap(corr, annot=True, mask=mask, fmt='.2f')"
      ],
      "metadata": {
        "colab": {
          "base_uri": "https://localhost:8080/",
          "height": 1000
        },
        "id": "lNH47UZkpCiS",
        "outputId": "b7dcd3cb-4500-40e6-c646-0cf33ba43cbb"
      },
      "execution_count": 27,
      "outputs": [
        {
          "output_type": "execute_result",
          "data": {
            "text/plain": [
              "<matplotlib.axes._subplots.AxesSubplot at 0x7f813841a790>"
            ]
          },
          "metadata": {},
          "execution_count": 27
        },
        {
          "output_type": "display_data",
          "data": {
            "text/plain": [
              "<Figure size 1296x1296 with 2 Axes>"
            ],
            "image/png": "[encoded data removed]"
          },
          "metadata": {
            "needs_background": "light"
          }
        }
      ]
    },
    {
      "cell_type": "markdown",
      "source": [
        "Dipilih threshold 0.8. Sehingga akan dipilih kolom-kolom yang memiliki korelasi di atas 0.8 dengan variabel lain.\n",
        "\n",
        "Selain itu, variabel yang memiliki korelasi di atas 0.1 dengan variabel *loan_status* (variabel target) juga akan digunakan untuk pemodelan machine learning."
      ],
      "metadata": {
        "id": "nVoaxBQrz9gG"
      }
    },
    {
      "cell_type": "code",
      "source": [
        "threshold = 0.8\n",
        "\n",
        "high_corr = corr[(corr > threshold) & (corr < 0.99)][(corr != np.nan).any(axis=1)]\n",
        "used_col = set(high_corr[(high_corr > 0.7).any(axis=1)].index)\n",
        "used_col"
      ],
      "metadata": {
        "id": "Vtoc7JYCwiv4",
        "colab": {
          "base_uri": "https://localhost:8080/"
        },
        "outputId": "e399b1e6-853d-4804-f946-7cf20e902ff9"
      },
      "execution_count": 28,
      "outputs": [
        {
          "output_type": "execute_result",
          "data": {
            "text/plain": [
              "{'funded_amnt',\n",
              " 'funded_amnt_inv',\n",
              " 'installment',\n",
              " 'loan_amnt',\n",
              " 'total_pymnt',\n",
              " 'total_pymnt_inv',\n",
              " 'total_rec_prncp'}"
            ]
          },
          "metadata": {},
          "execution_count": 28
        }
      ]
    },
    {
      "cell_type": "code",
      "source": [
        "high_corr = corr['loan_status'].loc[lambda x: x >= 0.1].index\n",
        "\n",
        "for col in set(high_corr):\n",
        "  used_col.add(col)\n",
        "\n",
        "for col in df_ob:\n",
        "  used_col.add(col)\n",
        "\n",
        "used_col"
      ],
      "metadata": {
        "colab": {
          "base_uri": "https://localhost:8080/"
        },
        "id": "D4bOCgfg0ZnB",
        "outputId": "2c96d926-ee23-47bd-f5d4-02518a930c35"
      },
      "execution_count": 29,
      "outputs": [
        {
          "output_type": "execute_result",
          "data": {
            "text/plain": [
              "{'addr_state',\n",
              " 'annual_inc',\n",
              " 'collection_recovery_fee',\n",
              " 'dti',\n",
              " 'funded_amnt',\n",
              " 'funded_amnt_inv',\n",
              " 'grade',\n",
              " 'home_ownership',\n",
              " 'installment',\n",
              " 'int_rate',\n",
              " 'last_pymnt_amnt',\n",
              " 'loan_amnt',\n",
              " 'loan_status',\n",
              " 'out_prncp',\n",
              " 'out_prncp_inv',\n",
              " 'purpose',\n",
              " 'recoveries',\n",
              " 'sub_grade',\n",
              " 'total_pymnt',\n",
              " 'total_pymnt_inv',\n",
              " 'total_rec_late_fee',\n",
              " 'total_rec_prncp',\n",
              " 'verification_status'}"
            ]
          },
          "metadata": {},
          "execution_count": 29
        }
      ]
    },
    {
      "cell_type": "code",
      "source": [
        "for col in df:\n",
        "  if col not in used_col:\n",
        "    unused_col.add(col)\n",
        "\n",
        "unused_col"
      ],
      "metadata": {
        "colab": {
          "base_uri": "https://localhost:8080/"
        },
        "id": "NoZDowsI2SLP",
        "outputId": "3bbf49f4-54a7-4258-a000-600938c37898"
      },
      "execution_count": 30,
      "outputs": [
        {
          "output_type": "execute_result",
          "data": {
            "text/plain": [
              "{'Unnamed: 0',\n",
              " 'acc_now_delinq',\n",
              " 'application_type',\n",
              " 'collections_12_mths_ex_med',\n",
              " 'delinq_2yrs',\n",
              " 'desc',\n",
              " 'earliest_cr_line',\n",
              " 'emp_length',\n",
              " 'emp_title',\n",
              " 'id',\n",
              " 'initial_list_status',\n",
              " 'inq_last_6mths',\n",
              " 'issue_d',\n",
              " 'last_credit_pull_d',\n",
              " 'last_pymnt_d',\n",
              " 'member_id',\n",
              " 'mths_since_last_delinq',\n",
              " 'mths_since_last_major_derog',\n",
              " 'mths_since_last_record',\n",
              " 'next_pymnt_d',\n",
              " 'open_acc',\n",
              " 'policy_code',\n",
              " 'pub_rec',\n",
              " 'pymnt_plan',\n",
              " 'revol_bal',\n",
              " 'revol_util',\n",
              " 'risk_score',\n",
              " 'term',\n",
              " 'title',\n",
              " 'tot_coll_amt',\n",
              " 'tot_cur_bal',\n",
              " 'total_acc',\n",
              " 'total_rec_int',\n",
              " 'total_rev_hi_lim',\n",
              " 'url',\n",
              " 'zip_code'}"
            ]
          },
          "metadata": {},
          "execution_count": 30
        }
      ]
    },
    {
      "cell_type": "markdown",
      "source": [
        "#### Distribusi"
      ],
      "metadata": {
        "id": "aFHRM_6H6AF1"
      }
    },
    {
      "cell_type": "markdown",
      "source": [
        "Akan diperiksa apakah variabel yang akan digunakan berdistribusi normal"
      ],
      "metadata": {
        "id": "Aec24a2J79u3"
      }
    },
    {
      "cell_type": "code",
      "source": [
        "dist = dict()\n",
        "\n",
        "for col in used_col:\n",
        "  if df[col].dtypes != 'object':\n",
        "    stat, p = shapiro(df[col])\n",
        "    if p > 0.05:\n",
        "      dist[col] = [stat, p, 'NORMAL']\n",
        "    else:\n",
        "      dist[col] = [stat, p, 'TIDAK NORMAL']\n",
        "\n",
        "pd.DataFrame(dist, index=['Statistic', 'p-value', 'Distribusi']).transpose()"
      ],
      "metadata": {
        "colab": {
          "base_uri": "https://localhost:8080/",
          "height": 617
        },
        "id": "fwXf0_v86CA7",
        "outputId": "5d9282bd-0cf0-4b24-9982-c7aa5d30974e"
      },
      "execution_count": 31,
      "outputs": [
        {
          "output_type": "stream",
          "name": "stderr",
          "text": [
            "/usr/local/lib/python3.8/dist-packages/scipy/stats/morestats.py:1760: UserWarning: p-value may not be accurate for N > 5000.\n",
            "  warnings.warn(\"p-value may not be accurate for N > 5000.\")\n"
          ]
        },
        {
          "output_type": "execute_result",
          "data": {
            "text/plain": [
              "                        Statistic p-value    Distribusi\n",
              "last_pymnt_amnt          0.874333     0.0  TIDAK NORMAL\n",
              "int_rate                 0.986223     0.0  TIDAK NORMAL\n",
              "total_rec_late_fee       0.086201     0.0  TIDAK NORMAL\n",
              "out_prncp                0.174452     0.0  TIDAK NORMAL\n",
              "total_rec_prncp           0.94972     0.0  TIDAK NORMAL\n",
              "dti                      0.989863     0.0  TIDAK NORMAL\n",
              "loan_amnt                0.956513     0.0  TIDAK NORMAL\n",
              "collection_recovery_fee   0.14829     0.0  TIDAK NORMAL\n",
              "funded_amnt              0.956513     0.0  TIDAK NORMAL\n",
              "recoveries               0.244751     0.0  TIDAK NORMAL\n",
              "out_prncp_inv            0.174476     0.0  TIDAK NORMAL\n",
              "funded_amnt_inv          0.956463     0.0  TIDAK NORMAL\n",
              "total_pymnt              0.944761     0.0  TIDAK NORMAL\n",
              "installment              0.954086     0.0  TIDAK NORMAL\n",
              "annual_inc               0.908751     0.0  TIDAK NORMAL\n",
              "loan_status              0.490682     0.0  TIDAK NORMAL\n",
              "total_pymnt_inv          0.944737     0.0  TIDAK NORMAL"
            ],
            "text/html": [
              "\n",
              "  <div id=\"df-fef15fee-16ad-4358-a884-4b900d330a07\">\n",
              "    <div class=\"colab-df-container\">\n",
              "      <div>\n",
              "<style scoped>\n",
              "    .dataframe tbody tr th:only-of-type {\n",
              "        vertical-align: middle;\n",
              "    }\n",
              "\n",
              "    .dataframe tbody tr th {\n",
              "        vertical-align: top;\n",
              "    }\n",
              "\n",
              "    .dataframe thead th {\n",
              "        text-align: right;\n",
              "    }\n",
              "</style>\n",
              "<table border=\"1\" class=\"dataframe\">\n",
              "  <thead>\n",
              "    <tr style=\"text-align: right;\">\n",
              "      <th></th>\n",
              "      <th>Statistic</th>\n",
              "      <th>p-value</th>\n",
              "      <th>Distribusi</th>\n",
              "    </tr>\n",
              "  </thead>\n",
              "  <tbody>\n",
              "    <tr>\n",
              "      <th>last_pymnt_amnt</th>\n",
              "      <td>0.874333</td>\n",
              "      <td>0.0</td>\n",
              "      <td>TIDAK NORMAL</td>\n",
              "    </tr>\n",
              "    <tr>\n",
              "      <th>int_rate</th>\n",
              "      <td>0.986223</td>\n",
              "      <td>0.0</td>\n",
              "      <td>TIDAK NORMAL</td>\n",
              "    </tr>\n",
              "    <tr>\n",
              "      <th>total_rec_late_fee</th>\n",
              "      <td>0.086201</td>\n",
              "      <td>0.0</td>\n",
              "      <td>TIDAK NORMAL</td>\n",
              "    </tr>\n",
              "    <tr>\n",
              "      <th>out_prncp</th>\n",
              "      <td>0.174452</td>\n",
              "      <td>0.0</td>\n",
              "      <td>TIDAK NORMAL</td>\n",
              "    </tr>\n",
              "    <tr>\n",
              "      <th>total_rec_prncp</th>\n",
              "      <td>0.94972</td>\n",
              "      <td>0.0</td>\n",
              "      <td>TIDAK NORMAL</td>\n",
              "    </tr>\n",
              "    <tr>\n",
              "      <th>dti</th>\n",
              "      <td>0.989863</td>\n",
              "      <td>0.0</td>\n",
              "      <td>TIDAK NORMAL</td>\n",
              "    </tr>\n",
              "    <tr>\n",
              "      <th>loan_amnt</th>\n",
              "      <td>0.956513</td>\n",
              "      <td>0.0</td>\n",
              "      <td>TIDAK NORMAL</td>\n",
              "    </tr>\n",
              "    <tr>\n",
              "      <th>collection_recovery_fee</th>\n",
              "      <td>0.14829</td>\n",
              "      <td>0.0</td>\n",
              "      <td>TIDAK NORMAL</td>\n",
              "    </tr>\n",
              "    <tr>\n",
              "      <th>funded_amnt</th>\n",
              "      <td>0.956513</td>\n",
              "      <td>0.0</td>\n",
              "      <td>TIDAK NORMAL</td>\n",
              "    </tr>\n",
              "    <tr>\n",
              "      <th>recoveries</th>\n",
              "      <td>0.244751</td>\n",
              "      <td>0.0</td>\n",
              "      <td>TIDAK NORMAL</td>\n",
              "    </tr>\n",
              "    <tr>\n",
              "      <th>out_prncp_inv</th>\n",
              "      <td>0.174476</td>\n",
              "      <td>0.0</td>\n",
              "      <td>TIDAK NORMAL</td>\n",
              "    </tr>\n",
              "    <tr>\n",
              "      <th>funded_amnt_inv</th>\n",
              "      <td>0.956463</td>\n",
              "      <td>0.0</td>\n",
              "      <td>TIDAK NORMAL</td>\n",
              "    </tr>\n",
              "    <tr>\n",
              "      <th>total_pymnt</th>\n",
              "      <td>0.944761</td>\n",
              "      <td>0.0</td>\n",
              "      <td>TIDAK NORMAL</td>\n",
              "    </tr>\n",
              "    <tr>\n",
              "      <th>installment</th>\n",
              "      <td>0.954086</td>\n",
              "      <td>0.0</td>\n",
              "      <td>TIDAK NORMAL</td>\n",
              "    </tr>\n",
              "    <tr>\n",
              "      <th>annual_inc</th>\n",
              "      <td>0.908751</td>\n",
              "      <td>0.0</td>\n",
              "      <td>TIDAK NORMAL</td>\n",
              "    </tr>\n",
              "    <tr>\n",
              "      <th>loan_status</th>\n",
              "      <td>0.490682</td>\n",
              "      <td>0.0</td>\n",
              "      <td>TIDAK NORMAL</td>\n",
              "    </tr>\n",
              "    <tr>\n",
              "      <th>total_pymnt_inv</th>\n",
              "      <td>0.944737</td>\n",
              "      <td>0.0</td>\n",
              "      <td>TIDAK NORMAL</td>\n",
              "    </tr>\n",
              "  </tbody>\n",
              "</table>\n",
              "</div>\n",
              "      <button class=\"colab-df-convert\" onclick=\"convertToInteractive('df-fef15fee-16ad-4358-a884-4b900d330a07')\"\n",
              "              title=\"Convert this dataframe to an interactive table.\"\n",
              "              style=\"display:none;\">\n",
              "        \n",
              "  <svg xmlns=\"http://www.w3.org/2000/svg\" height=\"24px\"viewBox=\"0 0 24 24\"\n",
              "       width=\"24px\">\n",
              "    <path d=\"M0 0h24v24H0V0z\" fill=\"none\"/>\n",
              "    <path d=\"M18.56 5.44l.94 2.06.94-2.06 2.06-.94-2.06-.94-.94-2.06-.94 2.06-2.06.94zm-11 1L8.5 8.5l.94-2.06 2.06-.94-2.06-.94L8.5 2.5l-.94 2.06-2.06.94zm10 10l.94 2.06.94-2.06 2.06-.94-2.06-.94-.94-2.06-.94 2.06-2.06.94z\"/><path d=\"M17.41 7.96l-1.37-1.37c-.4-.4-.92-.59-1.43-.59-.52 0-1.04.2-1.43.59L10.3 9.45l-7.72 7.72c-.78.78-.78 2.05 0 2.83L4 21.41c.39.39.9.59 1.41.59.51 0 1.02-.2 1.41-.59l7.78-7.78 2.81-2.81c.8-.78.8-2.07 0-2.86zM5.41 20L4 18.59l7.72-7.72 1.47 1.35L5.41 20z\"/>\n",
              "  </svg>\n",
              "      </button>\n",
              "      \n",
              "  <style>\n",
              "    .colab-df-container {\n",
              "      display:flex;\n",
              "      flex-wrap:wrap;\n",
              "      gap: 12px;\n",
              "    }\n",
              "\n",
              "    .colab-df-convert {\n",
              "      background-color: #E8F0FE;\n",
              "      border: none;\n",
              "      border-radius: 50%;\n",
              "      cursor: pointer;\n",
              "      display: none;\n",
              "      fill: #1967D2;\n",
              "      height: 32px;\n",
              "      padding: 0 0 0 0;\n",
              "      width: 32px;\n",
              "    }\n",
              "\n",
              "    .colab-df-convert:hover {\n",
              "      background-color: #E2EBFA;\n",
              "      box-shadow: 0px 1px 2px rgba(60, 64, 67, 0.3), 0px 1px 3px 1px rgba(60, 64, 67, 0.15);\n",
              "      fill: #174EA6;\n",
              "    }\n",
              "\n",
              "    [theme=dark] .colab-df-convert {\n",
              "      background-color: #3B4455;\n",
              "      fill: #D2E3FC;\n",
              "    }\n",
              "\n",
              "    [theme=dark] .colab-df-convert:hover {\n",
              "      background-color: #434B5C;\n",
              "      box-shadow: 0px 1px 3px 1px rgba(0, 0, 0, 0.15);\n",
              "      filter: drop-shadow(0px 1px 2px rgba(0, 0, 0, 0.3));\n",
              "      fill: #FFFFFF;\n",
              "    }\n",
              "  </style>\n",
              "\n",
              "      <script>\n",
              "        const buttonEl =\n",
              "          document.querySelector('#df-fef15fee-16ad-4358-a884-4b900d330a07 button.colab-df-convert');\n",
              "        buttonEl.style.display =\n",
              "          google.colab.kernel.accessAllowed ? 'block' : 'none';\n",
              "\n",
              "        async function convertToInteractive(key) {\n",
              "          const element = document.querySelector('#df-fef15fee-16ad-4358-a884-4b900d330a07');\n",
              "          const dataTable =\n",
              "            await google.colab.kernel.invokeFunction('convertToInteractive',\n",
              "                                                     [key], {});\n",
              "          if (!dataTable) return;\n",
              "\n",
              "          const docLinkHtml = 'Like what you see? Visit the ' +\n",
              "            '<a target=\"_blank\" href=https://colab.research.google.com/notebooks/data_table.ipynb>data table notebook</a>'\n",
              "            + ' to learn more about interactive tables.';\n",
              "          element.innerHTML = '';\n",
              "          dataTable['output_type'] = 'display_data';\n",
              "          await google.colab.output.renderOutput(dataTable, element);\n",
              "          const docLink = document.createElement('div');\n",
              "          docLink.innerHTML = docLinkHtml;\n",
              "          element.appendChild(docLink);\n",
              "        }\n",
              "      </script>\n",
              "    </div>\n",
              "  </div>\n",
              "  "
            ]
          },
          "metadata": {},
          "execution_count": 31
        }
      ]
    },
    {
      "cell_type": "markdown",
      "source": [
        "## Preprocessing"
      ],
      "metadata": {
        "id": "PsYeYKPc4S8j"
      }
    },
    {
      "cell_type": "markdown",
      "source": [
        "Data kategorikal akan diubah menjadi numerik dengan one hot encoding."
      ],
      "metadata": {
        "id": "l0pGVRa04zSn"
      }
    },
    {
      "cell_type": "code",
      "source": [
        "df_num = df[used_col].select_dtypes(exclude = object).drop('loan_status', \n",
        "                                                           axis=1)\n",
        "df_cat = df[used_col].select_dtypes(include = object)\n",
        "target = df['loan_status']\n",
        "\n",
        "df[used_col].shape"
      ],
      "metadata": {
        "id": "bxNMA8rZ32OZ",
        "colab": {
          "base_uri": "https://localhost:8080/"
        },
        "outputId": "c4f3c327-c55b-4d3d-9f1f-96a5f910c89f"
      },
      "execution_count": 32,
      "outputs": [
        {
          "output_type": "execute_result",
          "data": {
            "text/plain": [
              "(140627, 23)"
            ]
          },
          "metadata": {},
          "execution_count": 32
        }
      ]
    },
    {
      "cell_type": "code",
      "source": [
        "dum_cat = pd.get_dummies(df_cat)\n",
        "dum_cat.shape"
      ],
      "metadata": {
        "colab": {
          "base_uri": "https://localhost:8080/"
        },
        "id": "9b3UMVXM9Vdx",
        "outputId": "07648b09-5ec1-4baa-a871-407148c30e36"
      },
      "execution_count": 33,
      "outputs": [
        {
          "output_type": "execute_result",
          "data": {
            "text/plain": [
              "(140627, 113)"
            ]
          },
          "metadata": {},
          "execution_count": 33
        }
      ]
    },
    {
      "cell_type": "code",
      "source": [
        "df_num.shape"
      ],
      "metadata": {
        "colab": {
          "base_uri": "https://localhost:8080/"
        },
        "id": "Y5v8ZPDs_4El",
        "outputId": "e474b89e-36eb-440e-802e-700fb7058683"
      },
      "execution_count": 34,
      "outputs": [
        {
          "output_type": "execute_result",
          "data": {
            "text/plain": [
              "(140627, 16)"
            ]
          },
          "metadata": {},
          "execution_count": 34
        }
      ]
    },
    {
      "cell_type": "markdown",
      "source": [
        "Akan dipisah antara data latih dan data uji."
      ],
      "metadata": {
        "id": "rWBciXu6Asay"
      }
    },
    {
      "cell_type": "code",
      "source": [
        "ml_df = pd.concat([df_num, dum_cat], axis=1)\n",
        "\n",
        "x_train, x_test, y_train, y_test = train_test_split(ml_df, target,\n",
        "                                                    test_size=.2)"
      ],
      "metadata": {
        "id": "2BqhAKru-YB6"
      },
      "execution_count": 35,
      "outputs": []
    },
    {
      "cell_type": "markdown",
      "source": [
        "Setelah dilatih, data numerik sebelumnya pada data latih akan dinormalisasi."
      ],
      "metadata": {
        "id": "49kuWHFMAxvr"
      }
    },
    {
      "cell_type": "code",
      "source": [
        "x_train_num = x_train[x_train.columns[:16]].to_numpy()\n",
        "x_train_cat = x_train[x_train.columns[16:]].to_numpy()\n",
        "\n",
        "scaler = MinMaxScaler()\n",
        "scaler.fit(x_train_num)\n",
        "x_train_num = scaler.transform(x_train_num)\n",
        "\n",
        "x_train = np.concatenate([x_train_num, x_train_cat], axis=1)\n",
        "x_train.shape"
      ],
      "metadata": {
        "colab": {
          "base_uri": "https://localhost:8080/"
        },
        "id": "BlhLUgwFAfFX",
        "outputId": "a2e0a817-1037-418e-ee1f-11061d940b8c"
      },
      "execution_count": 36,
      "outputs": [
        {
          "output_type": "execute_result",
          "data": {
            "text/plain": [
              "(112501, 129)"
            ]
          },
          "metadata": {},
          "execution_count": 36
        }
      ]
    },
    {
      "cell_type": "code",
      "source": [
        "x_test_num = x_test[x_test.columns[:16]].to_numpy()\n",
        "x_test_cat = x_test[x_test.columns[16:]].to_numpy()\n",
        "\n",
        "x_test_num = scaler.transform(x_test_num)\n",
        "\n",
        "x_test = np.concatenate([x_test_num, x_test_cat], axis=1)\n",
        "x_test.shape"
      ],
      "metadata": {
        "colab": {
          "base_uri": "https://localhost:8080/"
        },
        "id": "rmg2YuBQCLz0",
        "outputId": "264b56c5-33b3-446b-d0ee-35f3513b73e3"
      },
      "execution_count": 37,
      "outputs": [
        {
          "output_type": "execute_result",
          "data": {
            "text/plain": [
              "(28126, 129)"
            ]
          },
          "metadata": {},
          "execution_count": 37
        }
      ]
    },
    {
      "cell_type": "markdown",
      "source": [
        "## Pemodelan"
      ],
      "metadata": {
        "id": "_M_e_wKjC1AF"
      }
    },
    {
      "cell_type": "markdown",
      "source": [
        "Model machine learning yang akan digunakan adalah Decision Tree dengan hyperparameter tuning menggunakan GridSearchCV"
      ],
      "metadata": {
        "id": "b3sJGTgxlelH"
      }
    },
    {
      "cell_type": "code",
      "source": [
        "param_grid = {'criterion': ['gini', 'entropy'],\n",
        "              'max_depth': [2, 3, 4]}\n",
        "\n",
        "treeclf = tree.DecisionTreeClassifier()\n",
        "\n",
        "clf = GridSearchCV(treeclf, param_grid, cv=2, \n",
        "                   scoring='accuracy', verbose=3)\n",
        "\n",
        "clf.fit(x_train, y_train)"
      ],
      "metadata": {
        "colab": {
          "base_uri": "https://localhost:8080/"
        },
        "id": "ddq4GvAjC155",
        "outputId": "af731402-433e-4ab4-aeb8-4f9d5bcdd17a"
      },
      "execution_count": 38,
      "outputs": [
        {
          "output_type": "stream",
          "name": "stdout",
          "text": [
            "Fitting 2 folds for each of 6 candidates, totalling 12 fits\n",
            "[CV 1/2] END .......criterion=gini, max_depth=2;, score=0.943 total time=   0.4s\n",
            "[CV 2/2] END .......criterion=gini, max_depth=2;, score=0.942 total time=   0.4s\n",
            "[CV 1/2] END .......criterion=gini, max_depth=3;, score=0.954 total time=   0.5s\n",
            "[CV 2/2] END .......criterion=gini, max_depth=3;, score=0.954 total time=   0.6s\n",
            "[CV 1/2] END .......criterion=gini, max_depth=4;, score=0.977 total time=   0.7s\n",
            "[CV 2/2] END .......criterion=gini, max_depth=4;, score=0.975 total time=   0.7s\n",
            "[CV 1/2] END ....criterion=entropy, max_depth=2;, score=0.938 total time=   0.4s\n",
            "[CV 2/2] END ....criterion=entropy, max_depth=2;, score=0.940 total time=   0.4s\n",
            "[CV 1/2] END ....criterion=entropy, max_depth=3;, score=0.950 total time=   0.6s\n",
            "[CV 2/2] END ....criterion=entropy, max_depth=3;, score=0.950 total time=   0.6s\n",
            "[CV 1/2] END ....criterion=entropy, max_depth=4;, score=0.972 total time=   0.7s\n",
            "[CV 2/2] END ....criterion=entropy, max_depth=4;, score=0.972 total time=   0.7s\n"
          ]
        },
        {
          "output_type": "execute_result",
          "data": {
            "text/plain": [
              "GridSearchCV(cv=2, estimator=DecisionTreeClassifier(),\n",
              "             param_grid={'criterion': ['gini', 'entropy'],\n",
              "                         'max_depth': [2, 3, 4]},\n",
              "             scoring='accuracy', verbose=3)"
            ]
          },
          "metadata": {},
          "execution_count": 38
        }
      ]
    },
    {
      "cell_type": "code",
      "source": [
        "print(\"Hasil dari GridSearchCV \" )\n",
        "print(\"\\nEstimator terbaik:\\n\",clf.best_estimator_)\n",
        "print(\"\\nSkor terbaik:\\n\",clf.best_score_)\n",
        "print(\"\\nParameter terbaik:\\n\",clf.best_params_)"
      ],
      "metadata": {
        "colab": {
          "base_uri": "https://localhost:8080/"
        },
        "id": "5Eq7NLTCpOsR",
        "outputId": "30754c96-e461-46de-de33-6b4801e8253b"
      },
      "execution_count": 39,
      "outputs": [
        {
          "output_type": "stream",
          "name": "stdout",
          "text": [
            "Hasil dari GridSearchCV \n",
            "\n",
            "Estimator terbaik:\n",
            " DecisionTreeClassifier(max_depth=4)\n",
            "\n",
            "Skor terbaik:\n",
            " 0.9762579806778744\n",
            "\n",
            "Parameter terbaik:\n",
            " {'criterion': 'gini', 'max_depth': 4}\n"
          ]
        }
      ]
    },
    {
      "cell_type": "code",
      "source": [
        "plt.figure(figsize=(18,10))\n",
        "tree.plot_tree(clf.best_estimator_, fontsize=10)"
      ],
      "metadata": {
        "colab": {
          "base_uri": "https://localhost:8080/",
          "height": 940
        },
        "id": "HpoLIabSXW9J",
        "outputId": "310adadd-6ec4-46f5-dff4-327cca1d9d52"
      },
      "execution_count": 40,
      "outputs": [
        {
          "output_type": "execute_result",
          "data": {
            "text/plain": [
              "[Text(0.6527777777777778, 0.9, 'X[0] <= 0.034\\ngini = 0.32\\nsamples = 112501\\nvalue = [90042, 22459]'),\n",
              " Text(0.4166666666666667, 0.7, 'X[4] <= 0.171\\ngini = 0.459\\nsamples = 34248\\nvalue = [12219, 22029]'),\n",
              " Text(0.2222222222222222, 0.5, 'X[8] <= 0.146\\ngini = 0.237\\nsamples = 21896\\nvalue = [3013, 18883]'),\n",
              " Text(0.1111111111111111, 0.3, 'X[4] <= 0.086\\ngini = 0.499\\nsamples = 6348\\nvalue = [3008, 3340]'),\n",
              " Text(0.05555555555555555, 0.1, 'gini = 0.383\\nsamples = 4258\\nvalue = [1101, 3157]'),\n",
              " Text(0.16666666666666666, 0.1, 'gini = 0.16\\nsamples = 2090\\nvalue = [1907, 183]'),\n",
              " Text(0.3333333333333333, 0.3, 'X[6] <= 0.147\\ngini = 0.001\\nsamples = 15548\\nvalue = [5, 15543]'),\n",
              " Text(0.2777777777777778, 0.1, 'gini = 0.26\\nsamples = 13\\nvalue = [2, 11]'),\n",
              " Text(0.3888888888888889, 0.1, 'gini = 0.0\\nsamples = 15535\\nvalue = [3, 15532]'),\n",
              " Text(0.6111111111111112, 0.5, 'X[3] <= 0.0\\ngini = 0.38\\nsamples = 12352\\nvalue = [9206, 3146]'),\n",
              " Text(0.5555555555555556, 0.3, 'X[9] <= 0.002\\ngini = 0.281\\nsamples = 11078\\nvalue = [9206, 1872]'),\n",
              " Text(0.5, 0.1, 'gini = 0.2\\nsamples = 10376\\nvalue = [9206, 1170]'),\n",
              " Text(0.6111111111111112, 0.1, 'gini = 0.0\\nsamples = 702\\nvalue = [0, 702]'),\n",
              " Text(0.6666666666666666, 0.3, 'gini = 0.0\\nsamples = 1274\\nvalue = [0, 1274]'),\n",
              " Text(0.8888888888888888, 0.7, 'X[9] <= 0.001\\ngini = 0.011\\nsamples = 78253\\nvalue = [77823, 430]'),\n",
              " Text(0.8333333333333334, 0.5, 'X[10] <= 0.001\\ngini = 0.009\\nsamples = 78163\\nvalue = [77823, 340]'),\n",
              " Text(0.7777777777777778, 0.3, 'X[0] <= 0.042\\ngini = 0.007\\nsamples = 78108\\nvalue = [77823, 285]'),\n",
              " Text(0.7222222222222222, 0.1, 'gini = 0.295\\nsamples = 1144\\nvalue = [938, 206]'),\n",
              " Text(0.8333333333333334, 0.1, 'gini = 0.002\\nsamples = 76964\\nvalue = [76885, 79]'),\n",
              " Text(0.8888888888888888, 0.3, 'gini = 0.0\\nsamples = 55\\nvalue = [0, 55]'),\n",
              " Text(0.9444444444444444, 0.5, 'gini = 0.0\\nsamples = 90\\nvalue = [0, 90]')]"
            ]
          },
          "metadata": {},
          "execution_count": 40
        },
        {
          "output_type": "display_data",
          "data": {
            "text/plain": [
              "<Figure size 1296x720 with 1 Axes>"
            ],
            "image/png": "[encoded data removed]"
          },
          "metadata": {
            "needs_background": "light"
          }
        }
      ]
    },
    {
      "cell_type": "markdown",
      "source": [
        "### Evaluasi Training"
      ],
      "metadata": {
        "id": "xbX-56RGlRZm"
      }
    },
    {
      "cell_type": "code",
      "source": [
        "print(classification_report(y_train, clf.predict(x_train)))"
      ],
      "metadata": {
        "colab": {
          "base_uri": "https://localhost:8080/"
        },
        "id": "R4vIKiVikl2P",
        "outputId": "4b0be32b-1419-48b6-ec76-5bb5540ef3a5"
      },
      "execution_count": 41,
      "outputs": [
        {
          "output_type": "stream",
          "name": "stdout",
          "text": [
            "              precision    recall  f1-score   support\n",
            "\n",
            "           0       0.98      0.99      0.98     90042\n",
            "           1       0.95      0.93      0.94     22459\n",
            "\n",
            "    accuracy                           0.98    112501\n",
            "   macro avg       0.97      0.96      0.96    112501\n",
            "weighted avg       0.98      0.98      0.98    112501\n",
            "\n"
          ]
        }
      ]
    },
    {
      "cell_type": "markdown",
      "source": [
        "### Evaluasi Testing"
      ],
      "metadata": {
        "id": "a9-uhi-wmxzt"
      }
    },
    {
      "cell_type": "code",
      "source": [
        "print(classification_report(y_test, clf.predict(x_test)))\n",
        "print(clf.score(x_test, y_test))"
      ],
      "metadata": {
        "colab": {
          "base_uri": "https://localhost:8080/"
        },
        "id": "nq05hNWpmzaf",
        "outputId": "f79fd8ae-1fb8-476d-b788-fd463bfd42cf"
      },
      "execution_count": 42,
      "outputs": [
        {
          "output_type": "stream",
          "name": "stdout",
          "text": [
            "              precision    recall  f1-score   support\n",
            "\n",
            "           0       0.98      0.99      0.98     22377\n",
            "           1       0.95      0.92      0.94      5749\n",
            "\n",
            "    accuracy                           0.97     28126\n",
            "   macro avg       0.96      0.95      0.96     28126\n",
            "weighted avg       0.97      0.97      0.97     28126\n",
            "\n",
            "0.9741164758586361\n"
          ]
        }
      ]
    },
    {
      "cell_type": "code",
      "source": [
        "conf = confusion_matrix(y_test, clf.predict(x_test))\n",
        "\n",
        "sns.heatmap(conf, annot=True, fmt=\"g\")"
      ],
      "metadata": {
        "colab": {
          "base_uri": "https://localhost:8080/",
          "height": 282
        },
        "id": "eVTx6bMRtXqb",
        "outputId": "62ab1bc3-8f04-44bd-9555-5d48e4e244de"
      },
      "execution_count": 43,
      "outputs": [
        {
          "output_type": "execute_result",
          "data": {
            "text/plain": [
              "<matplotlib.axes._subplots.AxesSubplot at 0x7f81311d4a60>"
            ]
          },
          "metadata": {},
          "execution_count": 43
        },
        {
          "output_type": "display_data",
          "data": {
            "text/plain": [
              "<Figure size 432x288 with 2 Axes>"
            ],
            "image/png": "[encoded data removed]"
          },
          "metadata": {
            "needs_background": "light"
          }
        }
      ]
    },
    {
      "cell_type": "markdown",
      "source": [
        "Model memiliki performa yang sangat baik, baik untuk data latih maupun data uji dengan evaluasi berbagai metrik lebih dari 0,9."
      ],
      "metadata": {
        "id": "90kNVTYhtxeA"
      }
    },
    {
      "cell_type": "markdown",
      "source": [
        "### Menyimpan Model"
      ],
      "metadata": {
        "id": "ok4ElMkLuRv5"
      }
    },
    {
      "cell_type": "code",
      "source": [
        "joblib.dump(clf, 'model.sk')"
      ],
      "metadata": {
        "colab": {
          "base_uri": "https://localhost:8080/"
        },
        "id": "SK-XF4SNuV_d",
        "outputId": "3cfeba0a-216f-44b7-b887-cbfc40663522"
      },
      "execution_count": 44,
      "outputs": [
        {
          "output_type": "execute_result",
          "data": {
            "text/plain": [
              "['model.sk']"
            ]
          },
          "metadata": {},
          "execution_count": 44
        }
      ]
    },
    {
      "cell_type": "code",
      "source": [
        "clf = joblib.load('model.sk')"
      ],
      "metadata": {
        "id": "RBRVh6ejwKeT"
      },
      "execution_count": 45,
      "outputs": []
    }
  ]
}